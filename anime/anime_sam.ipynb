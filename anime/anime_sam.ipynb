{
 "cells": [
  {
   "cell_type": "code",
   "execution_count": 1,
   "id": "e7R6c60ULivi",
   "metadata": {
    "ExecuteTime": {
     "end_time": "2023-01-04T07:47:13.180180Z",
     "start_time": "2023-01-04T07:47:08.685711Z"
    },
    "colab": {
     "base_uri": "https://localhost:8080/"
    },
    "executionInfo": {
     "elapsed": 3236,
     "status": "ok",
     "timestamp": 1666692047388,
     "user": {
      "displayName": "蕭登方",
      "userId": "04110943827274540537"
     },
     "user_tz": -480
    },
    "id": "e7R6c60ULivi",
    "outputId": "20995799-5d67-4618-ffbc-cf2af763f909"
   },
   "outputs": [
    {
     "name": "stdout",
     "output_type": "stream",
     "text": [
      "Requirement already satisfied: transformers in c:\\programdata\\anaconda3\\envs\\tensorflow\\lib\\site-packages (4.23.1)\n",
      "Requirement already satisfied: numpy>=1.17 in c:\\programdata\\anaconda3\\envs\\tensorflow\\lib\\site-packages (from transformers) (1.21.5)\n",
      "Requirement already satisfied: huggingface-hub<1.0,>=0.10.0 in c:\\programdata\\anaconda3\\envs\\tensorflow\\lib\\site-packages (from transformers) (0.10.1)\n",
      "Requirement already satisfied: filelock in c:\\programdata\\anaconda3\\envs\\tensorflow\\lib\\site-packages (from transformers) (3.6.0)\n",
      "Requirement already satisfied: regex!=2019.12.17 in c:\\programdata\\anaconda3\\envs\\tensorflow\\lib\\site-packages (from transformers) (2022.7.9)\n",
      "Requirement already satisfied: tqdm>=4.27 in c:\\programdata\\anaconda3\\envs\\tensorflow\\lib\\site-packages (from transformers) (4.64.1)\n",
      "Requirement already satisfied: pyyaml>=5.1 in c:\\programdata\\anaconda3\\envs\\tensorflow\\lib\\site-packages (from transformers) (6.0)\n",
      "Requirement already satisfied: tokenizers!=0.11.3,<0.14,>=0.11.1 in c:\\programdata\\anaconda3\\envs\\tensorflow\\lib\\site-packages (from transformers) (0.13.1)\n",
      "Requirement already satisfied: packaging>=20.0 in c:\\programdata\\anaconda3\\envs\\tensorflow\\lib\\site-packages (from transformers) (21.3)\n",
      "Requirement already satisfied: requests in c:\\programdata\\anaconda3\\envs\\tensorflow\\lib\\site-packages (from transformers) (2.28.1)\n",
      "Requirement already satisfied: typing-extensions>=3.7.4.3 in c:\\programdata\\anaconda3\\envs\\tensorflow\\lib\\site-packages (from huggingface-hub<1.0,>=0.10.0->transformers) (4.3.0)\n",
      "Requirement already satisfied: pyparsing!=3.0.5,>=2.0.2 in c:\\programdata\\anaconda3\\envs\\tensorflow\\lib\\site-packages (from packaging>=20.0->transformers) (3.0.9)\n",
      "Requirement already satisfied: colorama in c:\\programdata\\anaconda3\\envs\\tensorflow\\lib\\site-packages (from tqdm>=4.27->transformers) (0.4.5)\n",
      "Requirement already satisfied: urllib3<1.27,>=1.21.1 in c:\\programdata\\anaconda3\\envs\\tensorflow\\lib\\site-packages (from requests->transformers) (1.26.12)\n",
      "Requirement already satisfied: charset-normalizer<3,>=2 in c:\\programdata\\anaconda3\\envs\\tensorflow\\lib\\site-packages (from requests->transformers) (2.0.4)\n",
      "Requirement already satisfied: certifi>=2017.4.17 in c:\\programdata\\anaconda3\\envs\\tensorflow\\lib\\site-packages (from requests->transformers) (2022.6.15)\n",
      "Requirement already satisfied: idna<4,>=2.5 in c:\\programdata\\anaconda3\\envs\\tensorflow\\lib\\site-packages (from requests->transformers) (3.4)\n",
      "Note: you may need to restart the kernel to use updated packages.\n"
     ]
    }
   ],
   "source": [
    "pip install transformers"
   ]
  },
  {
   "cell_type": "code",
   "execution_count": 2,
   "id": "b125ccb5",
   "metadata": {
    "ExecuteTime": {
     "end_time": "2023-01-04T07:47:15.069028Z",
     "start_time": "2023-01-04T07:47:13.182156Z"
    },
    "colab": {
     "base_uri": "https://localhost:8080/",
     "height": 104,
     "referenced_widgets": [
      "caac41f66b0142e28added42102acc2b",
      "cc50d7437a1b434683d60275b51a16b7",
      "64dc892c4b3645fcb2a3ba97f06e032c",
      "8dfa31321da04c048f4be0b325369ca5",
      "40937cf4c5b140cb996312e4619444db",
      "a542890fb452487e8eb6ea03b000ab33",
      "99457cf987d347368ed223bab27555c6",
      "e78290c248d741ec8a503a37b24aa143",
      "0a90c336520a4b37a07310ee07752420",
      "be822330c6c04df1ac3699bbf3a2760c",
      "9c06c8fbf24647908c33f7e522429777"
     ]
    },
    "executionInfo": {
     "elapsed": 858,
     "status": "ok",
     "timestamp": 1666692048242,
     "user": {
      "displayName": "蕭登方",
      "userId": "04110943827274540537"
     },
     "user_tz": -480
    },
    "id": "b125ccb5",
    "outputId": "3411176b-5711-41d9-9d49-0a8a4142ddf9"
   },
   "outputs": [],
   "source": [
    "import torch\n",
    "import transformers\n",
    "from transformers import BertTokenizer\n",
    "from IPython.display import clear_output"
   ]
  },
  {
   "cell_type": "code",
   "execution_count": 3,
   "id": "cc8cb462",
   "metadata": {
    "ExecuteTime": {
     "end_time": "2023-01-04T07:47:16.092853Z",
     "start_time": "2023-01-04T07:47:15.072019Z"
    },
    "executionInfo": {
     "elapsed": 497,
     "status": "ok",
     "timestamp": 1666692048736,
     "user": {
      "displayName": "蕭登方",
      "userId": "04110943827274540537"
     },
     "user_tz": -480
    },
    "id": "cc8cb462"
   },
   "outputs": [],
   "source": [
    "PRETRAINED_MODEL_NAME = \"ckiplab/bert-base-chinese\"  # 指定繁簡中文 BERT-BASE 預訓練模型\n",
    "\n",
    "from transformers import (\n",
    "   BertTokenizerFast,\n",
    "   AutoModelForMaskedLM,\n",
    "   AutoModelForCausalLM,\n",
    "   AutoModelForTokenClassification,\n",
    "   AutoModel,\n",
    ")\n",
    "\n",
    "\n",
    "tokenizer = BertTokenizerFast.from_pretrained(PRETRAINED_MODEL_NAME)\n"
   ]
  },
  {
   "cell_type": "code",
   "execution_count": 4,
   "id": "d139cf40",
   "metadata": {
    "ExecuteTime": {
     "end_time": "2023-01-04T07:47:16.108846Z",
     "start_time": "2023-01-04T07:47:16.094672Z"
    },
    "colab": {
     "base_uri": "https://localhost:8080/"
    },
    "executionInfo": {
     "elapsed": 4,
     "status": "ok",
     "timestamp": 1666692048737,
     "user": {
      "displayName": "蕭登方",
      "userId": "04110943827274540537"
     },
     "user_tz": -480
    },
    "id": "d139cf40",
    "outputId": "12e5aa8f-514c-47d1-cf24-98cf7bf25a1c"
   },
   "outputs": [
    {
     "name": "stdout",
     "output_type": "stream",
     "text": [
      "字典大小： 21128\n"
     ]
    }
   ],
   "source": [
    "vocab = tokenizer.vocab\n",
    "print(\"字典大小：\", len(vocab))"
   ]
  },
  {
   "cell_type": "code",
   "execution_count": 5,
   "id": "24720ca8",
   "metadata": {
    "ExecuteTime": {
     "end_time": "2023-01-04T07:47:16.559158Z",
     "start_time": "2023-01-04T07:47:16.109702Z"
    },
    "executionInfo": {
     "elapsed": 3,
     "status": "ok",
     "timestamp": 1666692048737,
     "user": {
      "displayName": "蕭登方",
      "userId": "04110943827274540537"
     },
     "user_tz": -480
    },
    "id": "24720ca8"
   },
   "outputs": [],
   "source": [
    "import pandas as pd"
   ]
  },
  {
   "cell_type": "code",
   "execution_count": 6,
   "id": "ojrXBYUQL45G",
   "metadata": {
    "ExecuteTime": {
     "end_time": "2023-01-04T07:47:16.575165Z",
     "start_time": "2023-01-04T07:47:16.561154Z"
    },
    "colab": {
     "base_uri": "https://localhost:8080/"
    },
    "executionInfo": {
     "elapsed": 2726,
     "status": "ok",
     "timestamp": 1666692051460,
     "user": {
      "displayName": "蕭登方",
      "userId": "04110943827274540537"
     },
     "user_tz": -480
    },
    "id": "ojrXBYUQL45G",
    "outputId": "a9823272-05d5-49b1-8e45-b704d5f4304a"
   },
   "outputs": [],
   "source": [
    "#from google.colab import drive\n",
    "#drive.mount('/content/drive')"
   ]
  },
  {
   "cell_type": "code",
   "execution_count": 7,
   "id": "324b6ee3",
   "metadata": {
    "ExecuteTime": {
     "end_time": "2023-01-04T07:47:16.653153Z",
     "start_time": "2023-01-04T07:47:16.576155Z"
    },
    "colab": {
     "base_uri": "https://localhost:8080/"
    },
    "executionInfo": {
     "elapsed": 757,
     "status": "ok",
     "timestamp": 1666692521312,
     "user": {
      "displayName": "蕭登方",
      "userId": "04110943827274540537"
     },
     "user_tz": -480
    },
    "id": "324b6ee3",
    "outputId": "6ec1f2ab-3356-4424-e2dd-b3b4ce81cf30"
   },
   "outputs": [
    {
     "name": "stdout",
     "output_type": "stream",
     "text": [
      "data len= 4000\n",
      "val len= 1202\n"
     ]
    }
   ],
   "source": [
    "#df_train = pd.read_csv(\"/content/drive/MyDrive/Colab Notebooks/data/movie/basic4_data.csv\")\n",
    "df_train=pd.read_csv(\"animes8_data_replace2.csv\")\n",
    "#df_train=pd.read_csv(\"basic8_data_augment.csv\") #testing\n",
    "df_val=pd.read_csv(\"animes8_val.csv\")\n",
    "df_total=pd.read_csv(\"animes8_total.csv\")\n",
    "#df_val_replace=pd.read_csv(\"basic8_val_replace.csv\")\n",
    "len_=len(df_train)\n",
    "animes=[\"鬼滅之刃\",\"間諜家家酒\",\"五等分的新娘\",\"出租女友\",\"進擊的巨人\",\"咒術迴戰\",\"無職轉生\",\"Re從零開始的異世界生活\"]\n",
    "print(\"data len=\",len_)\n",
    "print(\"val len=\",len(df_val))"
   ]
  },
  {
   "cell_type": "code",
   "execution_count": 8,
   "id": "04c55cd9",
   "metadata": {
    "ExecuteTime": {
     "end_time": "2023-01-04T07:47:16.669157Z",
     "start_time": "2023-01-04T07:47:16.655156Z"
    },
    "colab": {
     "base_uri": "https://localhost:8080/"
    },
    "executionInfo": {
     "elapsed": 371,
     "status": "ok",
     "timestamp": 1666692523971,
     "user": {
      "displayName": "蕭登方",
      "userId": "04110943827274540537"
     },
     "user_tz": -480
    },
    "id": "04c55cd9",
    "outputId": "b063a7ee-a9e7-4998-8622-61d6aca2e49e"
   },
   "outputs": [
    {
     "name": "stdout",
     "output_type": "stream",
     "text": [
      "after len= 2743\n",
      "after len= 1090\n"
     ]
    },
    {
     "name": "stderr",
     "output_type": "stream",
     "text": [
      "C:\\Users\\user\\AppData\\Local\\Temp\\ipykernel_22392\\3786618029.py:6: UserWarning: Boolean Series key will be reindexed to match DataFrame index.\n",
      "  df_total = df_val[~(df_total.sentence.apply(lambda x : len(x)> MAX_LENGTH))]\n"
     ]
    }
   ],
   "source": [
    "#-------把太長的去掉------\n",
    "MAX_LENGTH=80\n",
    "\n",
    "df_train = df_train[~(df_train.sentence.apply(lambda x : len(x)> MAX_LENGTH))]\n",
    "df_val = df_val[~(df_val.sentence.apply(lambda x : len(x)> MAX_LENGTH))]\n",
    "df_total = df_val[~(df_total.sentence.apply(lambda x : len(x)> MAX_LENGTH))]\n",
    "#df_val_replace=df_val_replace[~(df_val_replace.sentence.apply(lambda x : len(x)> MAX_LENGTH))]\n",
    "len_=len(df_train)\n",
    "print(\"after len=\",len_)\n",
    "print(\"after len=\",len(df_val))"
   ]
  },
  {
   "cell_type": "code",
   "execution_count": 9,
   "id": "ed31e792",
   "metadata": {
    "ExecuteTime": {
     "end_time": "2023-01-04T07:47:16.685153Z",
     "start_time": "2023-01-04T07:47:16.672155Z"
    },
    "colab": {
     "base_uri": "https://localhost:8080/",
     "height": 223
    },
    "executionInfo": {
     "elapsed": 301,
     "status": "ok",
     "timestamp": 1666692529866,
     "user": {
      "displayName": "蕭登方",
      "userId": "04110943827274540537"
     },
     "user_tz": -480
    },
    "id": "ed31e792",
    "outputId": "75712c05-a088-4019-947c-bb88ba6d7339"
   },
   "outputs": [
    {
     "name": "stdout",
     "output_type": "stream",
     "text": [
      "訓練樣本數： 2743\n",
      "                                             sentence label\n",
      "5   如題 剛剛活動解到第二彈發現不但有 某人無慘還有 竈門某人欸欸 這次活動是和鬼滅聯動嗎那後續...  鬼滅之刃\n",
      "10  作畫上來看，兩個可以算不相上下吧，劇情才是兩者帶來最大的差異，鬼滅直白簡單的王道劇情，Fat...  鬼滅之刃\n",
      "11                        Fate跟鬼滅比起來哪個更能表現幽浮社的實力當代表作?  鬼滅之刃\n",
      "12  如題為何只有墮g的臉有血絲其他人都沒？另外為什麼叫墮姬墮過胎的關係嗎？如果墮胎改成剁胎會不會...  鬼滅之刃\n",
      "13  某人那紫藤花毒，最強那種連上弦都能殺，為什麼不給其他柱分發一些有這種毒的暗器，其他柱不夠上弦...  鬼滅之刃\n",
      "                                            sentence label\n",
      "0        故事背景為日本大正時代，描述主角為了尋求讓被變成鬼的妹妹恢復為人類的方法，踏上斬鬼之旅  鬼滅之刃\n",
      "1  平安時代一名罹患絕症的青年鬼舞辻無慘在受到一位醫師的治療後成為鬼，鬼雖具有超長壽命和強悍的身...  鬼滅之刃\n",
      "2                            無慘希望找到能夠克服陽光的方法，便製造許多手下  鬼滅之刃\n",
      "3                旗下實力強大的十二隻鬼會被授予十二鬼月的稱號，強大的鬼可使用異能血鬼術  鬼滅之刃\n",
      "7  起初炭治郎以為鬼不會存在，直至隔天早上他返家後發現他的家人慘遭殺害身亡多時，而大妹禰豆子雖然...  鬼滅之刃\n"
     ]
    }
   ],
   "source": [
    "# idempotence, 將處理結果另存成 tsv 供 PyTorch 使用\n",
    "\n",
    "print(\"訓練樣本數：\", len(df_train))\n",
    "print(df_train.head())\n",
    "print(df_val.head())"
   ]
  },
  {
   "cell_type": "code",
   "execution_count": 10,
   "id": "353f0af0",
   "metadata": {
    "ExecuteTime": {
     "end_time": "2023-01-04T07:47:16.717159Z",
     "start_time": "2023-01-04T07:47:16.686155Z"
    },
    "colab": {
     "base_uri": "https://localhost:8080/"
    },
    "executionInfo": {
     "elapsed": 290,
     "status": "ok",
     "timestamp": 1666692531993,
     "user": {
      "displayName": "蕭登方",
      "userId": "04110943827274540537"
     },
     "user_tz": -480
    },
    "id": "353f0af0",
    "outputId": "0187476e-f888-4736-f176-0dc94b094f9f"
   },
   "outputs": [
    {
     "data": {
      "text/plain": [
       "進擊的巨人           0.153846\n",
       "Re從零開始的異世界生活    0.136712\n",
       "咒術迴戰            0.130879\n",
       "無職轉生            0.123952\n",
       "五等分的新娘          0.121400\n",
       "間諜家家酒           0.117025\n",
       "出租女友            0.111192\n",
       "鬼滅之刃            0.104995\n",
       "Name: label, dtype: float64"
      ]
     },
     "execution_count": 10,
     "metadata": {},
     "output_type": "execute_result"
    }
   ],
   "source": [
    "df_train.label.value_counts() / len(df_train)\n",
    "df_train.to_csv(\"train.tsv\", sep=\"\\t\", index=False)\n",
    "df_train.label.value_counts() / len(df_train)"
   ]
  },
  {
   "cell_type": "code",
   "execution_count": 11,
   "id": "2accd4ec",
   "metadata": {
    "ExecuteTime": {
     "end_time": "2023-01-04T07:47:16.733159Z",
     "start_time": "2023-01-04T07:47:16.718155Z"
    }
   },
   "outputs": [
    {
     "data": {
      "text/plain": [
       "Re從零開始的異世界生活    0.222018\n",
       "進擊的巨人           0.171560\n",
       "出租女友            0.125688\n",
       "無職轉生            0.111927\n",
       "鬼滅之刃            0.094495\n",
       "五等分的新娘          0.094495\n",
       "咒術迴戰            0.090826\n",
       "間諜家家酒           0.088991\n",
       "Name: label, dtype: float64"
      ]
     },
     "execution_count": 11,
     "metadata": {},
     "output_type": "execute_result"
    }
   ],
   "source": [
    "df_val.to_csv(\"val.tsv\", sep=\"\\t\", index=False)\n",
    "df_val.label.value_counts() / len(df_val)"
   ]
  },
  {
   "cell_type": "code",
   "execution_count": 12,
   "id": "1fae5cbb",
   "metadata": {
    "ExecuteTime": {
     "end_time": "2023-01-04T07:47:16.749165Z",
     "start_time": "2023-01-04T07:47:16.734154Z"
    }
   },
   "outputs": [
    {
     "data": {
      "text/plain": [
       "'\\npercentage=df_val.label.value_counts() / len(df_val)\\nwhile max(percentage)>0.20:\\n    for serie in series:\\n        if percentage[serie]>0.20:\\n            bad_label_index=df_val[df_val[\"label\"]==serie].sample(len(df_val)//20).index\\n            df_val = df_val[~df_val.index.isin(bad_label_index)]\\n    percentage=df_val.label.value_counts() / len(df_val)\\nprint(percentage)\\n\\n\\ndf_val.to_csv(\"val.tsv\", sep=\"\\t\", index=False)\\n'"
      ]
     },
     "execution_count": 12,
     "metadata": {},
     "output_type": "execute_result"
    }
   ],
   "source": [
    "#if data is unbalance https://stackoverflow.com/questions/57244781/deleting-large-amount-of-data-from-pandas-dataframe\n",
    "\"\"\"\n",
    "bad_label_index=df_val[df_val[\"label\"]==\"血觀音\"].sample(60).index\n",
    "df_val = df_val[~df_val.index.isin(bad_label_index)]\n",
    "t=df_val.index.isin(bad_label_index)\n",
    "\"\"\"\n",
    "\"\"\"\n",
    "percentage=df_val.label.value_counts() / len(df_val)\n",
    "while max(percentage)>0.20:\n",
    "    for serie in series:\n",
    "        if percentage[serie]>0.20:\n",
    "            bad_label_index=df_val[df_val[\"label\"]==serie].sample(len(df_val)//20).index\n",
    "            df_val = df_val[~df_val.index.isin(bad_label_index)]\n",
    "    percentage=df_val.label.value_counts() / len(df_val)\n",
    "print(percentage)\n",
    "\n",
    "\n",
    "df_val.to_csv(\"val.tsv\", sep=\"\\t\", index=False)\n",
    "\"\"\""
   ]
  },
  {
   "cell_type": "code",
   "execution_count": 13,
   "id": "14704ea5",
   "metadata": {
    "ExecuteTime": {
     "end_time": "2023-01-04T07:47:16.764896Z",
     "start_time": "2023-01-04T07:47:16.750155Z"
    }
   },
   "outputs": [],
   "source": [
    "#if data is unbalance https://stackoverflow.com/questions/57244781/deleting-large-amount-of-data-from-pandas-dataframe\n",
    "\"\"\"\n",
    "bad_label_index=df_val[df_val[\"label\"]==\"血觀音\"].sample(60).index\n",
    "df_val = df_val[~df_val.index.isin(bad_label_index)]\n",
    "t=df_val.index.isin(bad_label_index)\n",
    "\"\"\"\n",
    "\"\"\"\n",
    "percentage=df_total.label.value_counts() / len(df_total)\n",
    "while max(percentage)>0.20:\n",
    "    for serie in series:\n",
    "        if percentage[serie]>0.20:\n",
    "            bad_label_index=df_total[df_total[\"label\"]==serie].sample(len(df_total)//20).index\n",
    "            df_total = df_total[~df_total.index.isin(bad_label_index)]\n",
    "    percentage=df_total.label.value_counts() / len(df_total)\n",
    "print(percentage)\n",
    "\"\"\"\n",
    "df_total.to_csv(\"total.tsv\", sep=\"\\t\", index=False)"
   ]
  },
  {
   "cell_type": "markdown",
   "id": "07c9d6a4",
   "metadata": {
    "id": "07c9d6a4"
   },
   "source": [
    "tokens_tensor：代表識別每個 token 的索引值，用 tokenizer 轉換即可  \n",
    "\n",
    "segments_tensor：用來識別句子界限。第一句所有index對應 0，第二句所有index對應 1。另外注意句子間的 [SEP] 為 0  \n",
    "\n",
    "masks_tensor：用來界定自注意力機制範圍。1 讓 BERT 關注該位置，0 則代表是 padding 不需關注  //因為我們會zero padding讓batch裡大小一致\n"
   ]
  },
  {
   "cell_type": "code",
   "execution_count": 14,
   "id": "t91Y61Ewg67p",
   "metadata": {
    "ExecuteTime": {
     "end_time": "2023-01-04T07:47:16.781013Z",
     "start_time": "2023-01-04T07:47:16.765832Z"
    },
    "colab": {
     "base_uri": "https://localhost:8080/"
    },
    "executionInfo": {
     "elapsed": 397,
     "status": "ok",
     "timestamp": 1666702388532,
     "user": {
      "displayName": "蕭登方",
      "userId": "04110943827274540537"
     },
     "user_tz": -480
    },
    "id": "t91Y61Ewg67p",
    "outputId": "c2834a1f-f13f-4ea0-8a69-405e7d60fd60"
   },
   "outputs": [
    {
     "name": "stdout",
     "output_type": "stream",
     "text": [
      "{0: '鬼滅之刃', 1: '間諜家家酒', 2: '五等分的新娘', 3: '出租女友', 4: '進擊的巨人', 5: '咒術迴戰', 6: '無職轉生', 7: 'Re從零開始的異世界生活'}\n",
      "['五等分的新娘', '出租女友', '進擊的巨人']\n"
     ]
    }
   ],
   "source": [
    "label_map = {anime:i  for i, anime in enumerate(animes)}\n",
    "inv_label_map = {v: k for k, v in label_map.items()}\n",
    "print(inv_label_map)\n",
    "\n",
    "\n",
    "def indices_to_labels(indices):\n",
    "    for i in range(len(indices)):\n",
    "        indices[i] = inv_label_map[indices[i]]\n",
    "    return indices\n",
    "\n",
    "\n",
    "print(indices_to_labels([2, 3, 4]))"
   ]
  },
  {
   "cell_type": "code",
   "execution_count": 15,
   "id": "898872a1",
   "metadata": {
    "ExecuteTime": {
     "end_time": "2023-01-04T07:47:16.796348Z",
     "start_time": "2023-01-04T07:47:16.782833Z"
    },
    "executionInfo": {
     "elapsed": 1,
     "status": "ok",
     "timestamp": 1666692545270,
     "user": {
      "displayName": "蕭登方",
      "userId": "04110943827274540537"
     },
     "user_tz": -480
    },
    "id": "898872a1"
   },
   "outputs": [],
   "source": [
    "\"\"\"\n",
    "實作一個可以用來讀取訓練 / 測試集的 Dataset，這是你需要徹底了解的部分。\n",
    "此 Dataset 每次將 tsv 裡的一筆成對句子轉換成 BERT 相容的格式，並回傳 3 個 tensors：\n",
    "- tokens_tensor：兩個句子合併後的索引序列，包含 [CLS] 與 [SEP]\n",
    "- segments_tensor：可以用來識別兩個句子界限的 binary tensor\n",
    "- label_tensor：將分類標籤轉換成類別索引的 tensor, 如果是測試集則回傳 None\n",
    "\"\"\"\n",
    "from torch.utils.data import Dataset\n",
    "\n",
    "#https://pytorch.org/tutorials/beginner/data_loading_tutorial.html\n",
    "class SeriesDataset(Dataset):\n",
    "    # 讀取前處理後的 tsv 檔並初始化一些參數\n",
    "    def __init__(self, mode, tokenizer,label_map):\n",
    "        #assert mode in [\"train\", \"test\",\"val\"]  # 確定檔案名稱只接受train或test\n",
    "        self.mode = mode\n",
    "        # 大數據你會需要用 iterator=True\n",
    "        self.df = pd.read_csv(mode + \".tsv\", sep=\"\\t\").fillna(\"\")   #讀處裡好的tsv避免跟所有檔案的csv搞混\n",
    "        self.len = len(self.df)\n",
    "        self.label_map = label_map\n",
    "        self.tokenizer = tokenizer  # 我們將使用 BERT tokenizer\n",
    "\n",
    "    # 定義回傳一筆訓練 / 測試數據的函式\n",
    "    def __getitem__(self, idx):\n",
    "        \"\"\"\n",
    "        if self.mode == \"test\":\n",
    "            text, label = self.df.iloc[idx, :].values\n",
    "            label_tensor = None\n",
    "        else:\n",
    "        \"\"\"\n",
    "        text,label = self.df.iloc[idx, :].values\n",
    "        # 將 label 文字也轉換成索引方便轉換成 tensor\n",
    "        label_id = self.label_map[label]\n",
    "        label_tensor = torch.tensor(label_id)\n",
    "\n",
    "        # 建立第一個句子的 BERT tokens 並加入分隔符號 [SEP]\n",
    "        word_pieces = [\"[CLS]\"]\n",
    "        tokens = self.tokenizer.tokenize(text)\n",
    "        word_pieces += tokens + [\"[SEP]\"]\n",
    "        \n",
    "        # 將整個 token 序列轉換成索引序列\n",
    "        ids = self.tokenizer.convert_tokens_to_ids(word_pieces)\n",
    "        tokens_tensor = torch.tensor(ids)\n",
    "\n",
    "        return (tokens_tensor, label_tensor)\n",
    "\n",
    "    def __len__(self):\n",
    "        return self.len"
   ]
  },
  {
   "cell_type": "code",
   "execution_count": 16,
   "id": "d918f374",
   "metadata": {
    "ExecuteTime": {
     "end_time": "2023-01-04T07:47:16.843509Z",
     "start_time": "2023-01-04T07:47:16.797356Z"
    },
    "colab": {
     "base_uri": "https://localhost:8080/"
    },
    "executionInfo": {
     "elapsed": 302,
     "status": "ok",
     "timestamp": 1666692548355,
     "user": {
      "displayName": "蕭登方",
      "userId": "04110943827274540537"
     },
     "user_tz": -480
    },
    "id": "d918f374",
    "outputId": "0d26e54e-7846-400e-cbca-b14508b7da22"
   },
   "outputs": [
    {
     "name": "stdout",
     "output_type": "stream",
     "text": [
      "                                               sentence         label\n",
      "0     如題 剛剛活動解到第二彈發現不但有 某人無慘還有 竈門某人欸欸 這次活動是和鬼滅聯動嗎那後續...          鬼滅之刃\n",
      "1     作畫上來看，兩個可以算不相上下吧，劇情才是兩者帶來最大的差異，鬼滅直白簡單的王道劇情，Fat...          鬼滅之刃\n",
      "2                           Fate跟鬼滅比起來哪個更能表現幽浮社的實力當代表作?          鬼滅之刃\n",
      "3     如題為何只有墮g的臉有血絲其他人都沒？另外為什麼叫墮姬墮過胎的關係嗎？如果墮胎改成剁胎會不會...          鬼滅之刃\n",
      "4     某人那紫藤花毒，最強那種連上弦都能殺，為什麼不給其他柱分發一些有這種毒的暗器，其他柱不夠上弦...          鬼滅之刃\n",
      "...                                                 ...           ...\n",
      "2738                      即便心念是想過者平靜的生活，或心靈比教會更來得無害善良也是  Re從零開始的異世界生活\n",
      "2739                              然而民間有流傳，說是半獸人的出現是因為魔女  Re從零開始的異世界生活\n",
      "2740    因此在這先入為主的觀念下，導致男主半獸人傭兵對魔術與魔女本身就沒什好感，甚至可以說是厭惡與畏懼  Re從零開始的異世界生活\n",
      "2741                                    何況是建構在魔術體系上的魔法呢  Re從零開始的異世界生活\n",
      "2742                                 但他卻與零，創造魔法的魔女搭上了關係  Re從零開始的異世界生活\n",
      "\n",
      "[2743 rows x 2 columns]\n",
      "                                               sentence         label\n",
      "0           故事背景為日本大正時代，描述主角為了尋求讓被變成鬼的妹妹恢復為人類的方法，踏上斬鬼之旅          鬼滅之刃\n",
      "1     平安時代一名罹患絕症的青年鬼舞辻無慘在受到一位醫師的治療後成為鬼，鬼雖具有超長壽命和強悍的身...          鬼滅之刃\n",
      "2                               無慘希望找到能夠克服陽光的方法，便製造許多手下          鬼滅之刃\n",
      "3                   旗下實力強大的十二隻鬼會被授予十二鬼月的稱號，強大的鬼可使用異能血鬼術          鬼滅之刃\n",
      "4     起初炭治郎以為鬼不會存在，直至隔天早上他返家後發現他的家人慘遭殺害身亡多時，而大妹禰豆子雖然...          鬼滅之刃\n",
      "...                                                 ...           ...\n",
      "1085            在他們周圍張開冰壁，將他們從寒冷中拯救出來的，正是以前和自己締結過契約的大精靈  Re從零開始的異世界生活\n",
      "1086       因為羅茲瓦爾發動了能夠操縱天候的大型魔法，嗅到大量瑪那生成的大兔，開始慢慢的集合到了聖域  Re從零開始的異世界生活\n",
      "1087   雖然愛蜜莉雅成功帶著羅茲瓦爾和拉姆到墓所避難，但彷彿能將一切都覆蓋的大兔群們仍繼續往墓所進逼而來  Re從零開始的異世界生活\n",
      "1088                              正當陷入九死一生的處境時，昴和碧翠絲趕到了  Re從零開始的異世界生活\n",
      "1089                    面對三大魔獸之一的大兔，昴和碧翠絲締結契約後的首戰即將拉開序幕  Re從零開始的異世界生活\n",
      "\n",
      "[1090 rows x 2 columns]\n"
     ]
    }
   ],
   "source": [
    "# 初始化一個專門讀取訓練樣本的 Dataset，使用中文 BERT 斷詞\n",
    "trainset = SeriesDataset(\"train\", tokenizer=tokenizer,label_map=label_map)     #tokenizer 在上面注意力圖 上有宣告\n",
    "valset=SeriesDataset(\"val\", tokenizer=tokenizer,label_map=label_map)\n",
    "totalset=SeriesDataset(\"total\", tokenizer=tokenizer,label_map=label_map)\n",
    "#valset_replace = SeriesDataset(\"val_replace\", tokenizer=tokenizer,label_map=label_map)     #tokenizer 在上面注意力圖 上有宣告\n",
    "print(trainset.df)\n",
    "print(valset.df)\n",
    "#print(valset_replace.df)"
   ]
  },
  {
   "cell_type": "code",
   "execution_count": 17,
   "id": "4be87f75",
   "metadata": {
    "ExecuteTime": {
     "end_time": "2023-01-04T07:47:16.859265Z",
     "start_time": "2023-01-04T07:47:16.845356Z"
    },
    "colab": {
     "base_uri": "https://localhost:8080/"
    },
    "executionInfo": {
     "elapsed": 290,
     "status": "ok",
     "timestamp": 1666695853814,
     "user": {
      "displayName": "蕭登方",
      "userId": "04110943827274540537"
     },
     "user_tz": -480
    },
    "id": "4be87f75",
    "outputId": "eb451851-5af6-4c91-f2a6-696a1d7dec88"
   },
   "outputs": [
    {
     "name": "stdout",
     "output_type": "stream",
     "text": [
      "942\n",
      "[原始文本]\n",
      "句子 1：頂級的畫工，一流的人設\n",
      "分類  ：出租女友\n",
      "\n",
      "--------------------\n",
      "\n",
      "[Dataset 回傳的 tensors]\n",
      "tokens_tensor  ：tensor([ 101, 7515, 5159, 4638, 4529, 2339, 8024,  671, 3837, 4638,  782, 6257,\n",
      "         102])\n",
      "\n",
      "label_tensor   ：3\n",
      "--------------------\n",
      "\n",
      "[還原 tokens_tensors]\n",
      "[CLS]頂級的畫工，一流的人設[SEP]\n",
      "\n"
     ]
    }
   ],
   "source": [
    "import random\n",
    "# 選擇一個樣本\n",
    "sample_idx = int(random.random()*len(trainset))\n",
    "print(sample_idx)\n",
    "# 將原始文本拿出做比較\n",
    "text,label = trainset.df.iloc[sample_idx]\n",
    "\n",
    "# 利用剛剛建立的 Dataset 取出轉換後的 id tensors\n",
    "tokens_tensor,label_tensor = trainset[sample_idx]\n",
    "\n",
    "# 將 tokens_tensor 還原成文本\n",
    "tokens = tokenizer.convert_ids_to_tokens(tokens_tensor.tolist())\n",
    "combined_text = \"\".join(tokens)     #tokens 是一個很多字元的list用.join把他轉成string\n",
    "\n",
    "# 渲染前後差異，毫無反應就是個 print。可以直接看輸出結果\n",
    "print(f\"\"\"[原始文本]\n",
    "句子 1：{text}\n",
    "分類  ：{label}\n",
    "\n",
    "--------------------\n",
    "\n",
    "[Dataset 回傳的 tensors]\n",
    "tokens_tensor  ：{tokens_tensor}\n",
    "\n",
    "label_tensor   ：{label_tensor}\n",
    "--------------------\n",
    "\n",
    "[還原 tokens_tensors]\n",
    "{combined_text}\n",
    "\"\"\")"
   ]
  },
  {
   "cell_type": "code",
   "execution_count": 18,
   "id": "d55c40bd",
   "metadata": {
    "ExecuteTime": {
     "end_time": "2023-01-04T07:47:16.874276Z",
     "start_time": "2023-01-04T07:47:16.861275Z"
    },
    "colab": {
     "base_uri": "https://localhost:8080/"
    },
    "executionInfo": {
     "elapsed": 292,
     "status": "ok",
     "timestamp": 1666692552162,
     "user": {
      "displayName": "蕭登方",
      "userId": "04110943827274540537"
     },
     "user_tz": -480
    },
    "id": "d55c40bd",
    "outputId": "83ad9346-ce24-4b96-a727-cb22ba635434"
   },
   "outputs": [
    {
     "name": "stdout",
     "output_type": "stream",
     "text": [
      "<class 'tuple'>\n",
      "2743\n",
      "<class '__main__.SeriesDataset'>\n"
     ]
    }
   ],
   "source": [
    "print(type(trainset[0]))\n",
    "print(len(trainset))\n",
    "print(type(trainset))\n",
    "\n",
    "#trainset 直接用[]來看是一個(2657,)個tuple of three tensor"
   ]
  },
  {
   "cell_type": "code",
   "execution_count": 19,
   "id": "a4ecf92e",
   "metadata": {
    "ExecuteTime": {
     "end_time": "2023-01-04T07:47:16.889464Z",
     "start_time": "2023-01-04T07:47:16.875277Z"
    },
    "executionInfo": {
     "elapsed": 333,
     "status": "ok",
     "timestamp": 1666692553795,
     "user": {
      "displayName": "蕭登方",
      "userId": "04110943827274540537"
     },
     "user_tz": -480
    },
    "id": "a4ecf92e"
   },
   "outputs": [],
   "source": [
    "\"\"\"\n",
    "實作可以一次回傳一個 mini-batch 的 DataLoader\n",
    "這個 DataLoader 吃我們上面定義的 `MovieDataset`，\n",
    "回傳訓練 BERT 時會需要的 4 個 tensors：\n",
    "- tokens_tensors  : (batch_size, max_seq_len_in_batch)\n",
    "- segments_tensors: (batch_size, max_seq_len_in_batch)\n",
    "- masks_tensors   : (batch_size, max_seq_len_in_batch)\n",
    "- label_ids       : (batch_size)\n",
    "\"\"\"\n",
    "\n",
    "from torch.utils.data import DataLoader\n",
    "from torch.nn.utils.rnn import pad_sequence\n",
    "\n",
    "# 這個函式的輸入 `samples` 是一個 list由前面的3個tenors組成，裡頭的每個 element 都是\n",
    "# 剛剛定義的 `MovieDataset` 回傳的一個樣本，每個樣本都包含 3 tensors：\n",
    "# - tokens_tensor\n",
    "# - segments_tensor\n",
    "# - label_tensor\n",
    "# 它會對前兩個 tensors 作 zero padding，並產生前面說明過的 masks_tensors\n",
    "def create_mini_batch(samples):\n",
    "    tokens_tensors = [s[0] for s in samples]       #把每個sample的tensor取出來放進list 產生一個 list of tensor (batch_size,)\n",
    "    \n",
    "    # 測試集有 labels\n",
    "    if samples[0][1] is not None:\n",
    "        label_ids = torch.stack([s[1] for s in samples])\n",
    "    else:\n",
    "        label_ids = None\n",
    "    \n",
    "    # zero pad 到同一序列長度(要同時做好幾個RNN就要batch中每個元素一樣長)\n",
    "    #https://blog.csdn.net/qq_43391414/article/details/123289492\n",
    "    \n",
    "    tokens_tensors = pad_sequence(tokens_tensors, \n",
    "                                  batch_first=True)\n",
    "    \n",
    "    return tokens_tensors, label_ids\n"
   ]
  },
  {
   "cell_type": "code",
   "execution_count": 20,
   "id": "0f100f90",
   "metadata": {
    "ExecuteTime": {
     "end_time": "2023-01-04T07:47:16.905618Z",
     "start_time": "2023-01-04T07:47:16.890287Z"
    },
    "executionInfo": {
     "elapsed": 419,
     "status": "ok",
     "timestamp": 1666695647974,
     "user": {
      "displayName": "蕭登方",
      "userId": "04110943827274540537"
     },
     "user_tz": -480
    },
    "id": "0f100f90"
   },
   "outputs": [
    {
     "data": {
      "text/plain": [
       "'\\nvalloader_replace = DataLoader(valset_replace, batch_size=BATCH_SIZE,\\n                         shuffle=True,\\n                         collate_fn=create_mini_batch\\n                         )\\n'"
      ]
     },
     "execution_count": 20,
     "metadata": {},
     "output_type": "execute_result"
    }
   ],
   "source": [
    "#把data跟寫好的create_mini_batch放進trainloader\n",
    "BATCH_SIZE = 32\n",
    "trainloader = DataLoader(trainset, batch_size=BATCH_SIZE,\n",
    "                         shuffle=True,\n",
    "                         collate_fn=create_mini_batch\n",
    "                         )\n",
    "\n",
    "valloader = DataLoader(valset, batch_size=8,\n",
    "                         shuffle=True,\n",
    "                         collate_fn=create_mini_batch\n",
    "                         )\n",
    "totalloader = DataLoader(valset, batch_size=8,\n",
    "                         shuffle=True,\n",
    "                         collate_fn=create_mini_batch\n",
    "                         )\n",
    "\"\"\"\n",
    "valloader_replace = DataLoader(valset_replace, batch_size=BATCH_SIZE,\n",
    "                         shuffle=True,\n",
    "                         collate_fn=create_mini_batch\n",
    "                         )\n",
    "\"\"\""
   ]
  },
  {
   "cell_type": "code",
   "execution_count": 21,
   "id": "7e51f4db",
   "metadata": {
    "ExecuteTime": {
     "end_time": "2023-01-04T07:47:16.935984Z",
     "start_time": "2023-01-04T07:47:16.907110Z"
    },
    "colab": {
     "base_uri": "https://localhost:8080/"
    },
    "executionInfo": {
     "elapsed": 454,
     "status": "ok",
     "timestamp": 1666692557603,
     "user": {
      "displayName": "蕭登方",
      "userId": "04110943827274540537"
     },
     "user_tz": -480
    },
    "id": "7e51f4db",
    "outputId": "814b03b2-a1ae-441c-8bf8-5dd654a39557"
   },
   "outputs": [
    {
     "name": "stdout",
     "output_type": "stream",
     "text": [
      "\n",
      "tokens_tensors.shape   = torch.Size([32, 66]) \n",
      "tensor([[ 101, 3312, 3469,  ...,    0,    0,    0],\n",
      "        [ 101, 6857, 4415,  ...,    0,    0,    0],\n",
      "        [ 101, 2769, 2205,  ...,    0,    0,    0],\n",
      "        ...,\n",
      "        [ 101, 3378,  782,  ...,    0,    0,    0],\n",
      "        [ 101, 1333, 1993,  ...,    0,    0,    0],\n",
      "        [ 101, 5445,  844,  ...,    0,    0,    0]])\n",
      "------------------------\n",
      "label_ids.shape        = torch.Size([32])\n",
      "tensor([1, 7, 6, 1, 1, 2, 2, 2, 2, 5, 7, 0, 7, 1, 2, 1, 7, 2, 0, 5, 5, 6, 6, 5,\n",
      "        2, 0, 0, 3, 3, 5, 4, 4])\n",
      "\n"
     ]
    }
   ],
   "source": [
    "data = next(iter(trainloader))  # 取出traing loader 裡的一個mini_batch\n",
    "\n",
    "tokens_tensors, label_ids = data\n",
    "\n",
    "print(f\"\"\"\n",
    "tokens_tensors.shape   = {tokens_tensors.shape} \n",
    "{tokens_tensors}\n",
    "------------------------\n",
    "label_ids.shape        = {label_ids.shape}\n",
    "{label_ids}\n",
    "\"\"\")"
   ]
  },
  {
   "cell_type": "markdown",
   "id": "ec19265d",
   "metadata": {
    "id": "ec19265d"
   },
   "source": [
    "建立 BERT 用的 mini-batch 時最需要注意的就是 zero padding 的存在了。  \n",
    "你可以發現除了 lable_ids 以外，其他 3 個 tensors 的每個樣本的最後大都為 0，  \n",
    "這是因為每個樣本的 tokens 序列基本上長度都會不同，需要補 padding。"
   ]
  },
  {
   "cell_type": "code",
   "execution_count": 22,
   "id": "05f6a28d",
   "metadata": {
    "ExecuteTime": {
     "end_time": "2023-01-04T07:47:16.982639Z",
     "start_time": "2023-01-04T07:47:16.936987Z"
    },
    "executionInfo": {
     "elapsed": 3,
     "status": "ok",
     "timestamp": 1666692559822,
     "user": {
      "displayName": "蕭登方",
      "userId": "04110943827274540537"
     },
     "user_tz": -480
    },
    "id": "05f6a28d"
   },
   "outputs": [],
   "source": [
    "from transformers import BertForSequenceClassification"
   ]
  },
  {
   "cell_type": "code",
   "execution_count": 23,
   "id": "3dc3c895",
   "metadata": {
    "ExecuteTime": {
     "end_time": "2023-01-04T07:47:18.858964Z",
     "start_time": "2023-01-04T07:47:16.984462Z"
    },
    "colab": {
     "base_uri": "https://localhost:8080/"
    },
    "executionInfo": {
     "elapsed": 2443,
     "status": "ok",
     "timestamp": 1666692563398,
     "user": {
      "displayName": "蕭登方",
      "userId": "04110943827274540537"
     },
     "user_tz": -480
    },
    "id": "3dc3c895",
    "outputId": "599259b5-efec-4e99-a1da-f6b5f5063df3"
   },
   "outputs": [
    {
     "name": "stderr",
     "output_type": "stream",
     "text": [
      "Some weights of the model checkpoint at ckiplab/bert-base-chinese were not used when initializing BertForSequenceClassification: ['cls.predictions.decoder.bias', 'cls.predictions.transform.LayerNorm.bias', 'cls.predictions.transform.dense.bias', 'cls.predictions.bias', 'cls.predictions.decoder.weight', 'cls.predictions.transform.LayerNorm.weight', 'cls.predictions.transform.dense.weight']\n",
      "- This IS expected if you are initializing BertForSequenceClassification from the checkpoint of a model trained on another task or with another architecture (e.g. initializing a BertForSequenceClassification model from a BertForPreTraining model).\n",
      "- This IS NOT expected if you are initializing BertForSequenceClassification from the checkpoint of a model that you expect to be exactly identical (initializing a BertForSequenceClassification model from a BertForSequenceClassification model).\n",
      "Some weights of BertForSequenceClassification were not initialized from the model checkpoint at ckiplab/bert-base-chinese and are newly initialized: ['classifier.bias', 'classifier.weight', 'bert.pooler.dense.weight', 'bert.pooler.dense.bias']\n",
      "You should probably TRAIN this model on a down-stream task to be able to use it for predictions and inference.\n"
     ]
    },
    {
     "name": "stdout",
     "output_type": "stream",
     "text": [
      "======>LOAD new model\n"
     ]
    }
   ],
   "source": [
    "import os\n",
    "PRETRAINED_MODEL_NAME = \"ckiplab/bert-base-chinese\"\n",
    "NUM_LABELS = len(label_map)\n",
    "PATH=\"model_anime_sam100.pt\"\n",
    "\n",
    "model = BertForSequenceClassification.from_pretrained(\n",
    "        PRETRAINED_MODEL_NAME, num_labels=NUM_LABELS,attention_probs_dropout_prob=0.10,\n",
    "        hidden_dropout_prob=0.10)\n",
    "optimizer = torch.optim.Adam(model.parameters(), lr=1e-5)\n",
    "#uncommend to load model\n",
    "\n",
    "if os.path.isfile(PATH):\n",
    "    print(\"=====>LOAD checkpoint\"+PATH)\n",
    "    checkpoint = torch.load(PATH)\n",
    "    model.load_state_dict(checkpoint['model_state_dict'])\n",
    "    optimizer.load_state_dict(checkpoint['optimizer_state_dict'])\n",
    "else:\n",
    "    print(\"======>LOAD new model\")\n"
   ]
  },
  {
   "cell_type": "code",
   "execution_count": 24,
   "id": "d426173c",
   "metadata": {
    "ExecuteTime": {
     "end_time": "2023-01-04T07:47:18.873963Z",
     "start_time": "2023-01-04T07:47:18.861962Z"
    }
   },
   "outputs": [
    {
     "name": "stdout",
     "output_type": "stream",
     "text": [
      "True\n",
      "False\n"
     ]
    }
   ],
   "source": [
    "print(model.bert.embeddings.word_embeddings.weight.requires_grad)\n",
    "model.bert.embeddings.word_embeddings.weight.requires_grad=False\n",
    "print(model.bert.embeddings.word_embeddings.weight.requires_grad)"
   ]
  },
  {
   "cell_type": "code",
   "execution_count": 25,
   "id": "6603f3c6",
   "metadata": {
    "ExecuteTime": {
     "end_time": "2023-01-04T07:47:18.888965Z",
     "start_time": "2023-01-04T07:47:18.876963Z"
    },
    "colab": {
     "base_uri": "https://localhost:8080/"
    },
    "executionInfo": {
     "elapsed": 293,
     "status": "ok",
     "timestamp": 1666692566016,
     "user": {
      "displayName": "蕭登方",
      "userId": "04110943827274540537"
     },
     "user_tz": -480
    },
    "id": "6603f3c6",
    "outputId": "3b81ca91-806a-4988-ea43-152fb1e50c9e"
   },
   "outputs": [
    {
     "name": "stdout",
     "output_type": "stream",
     "text": [
      "\n",
      "name            module\n",
      "----------------------\n",
      "bert:embeddings\n",
      "bert:encoder\n",
      "bert:pooler\n",
      "dropout         Dropout(p=0.1, inplace=False)\n",
      "classifier      Linear(in_features=768, out_features=8, bias=True)\n"
     ]
    }
   ],
   "source": [
    "print(\"\"\"\n",
    "name            module\n",
    "----------------------\"\"\")\n",
    "for name, module in model.named_children():\n",
    "    if name == \"bert\":\n",
    "        for n, _ in module.named_children():\n",
    "            print(f\"{name}:{n}\")\n",
    "    else:\n",
    "        print(\"{:15} {}\".format(name, module))"
   ]
  },
  {
   "cell_type": "code",
   "execution_count": 26,
   "id": "70c58cda",
   "metadata": {
    "ExecuteTime": {
     "end_time": "2023-01-04T07:47:18.904962Z",
     "start_time": "2023-01-04T07:47:18.891962Z"
    },
    "executionInfo": {
     "elapsed": 469,
     "status": "ok",
     "timestamp": 1666692568445,
     "user": {
      "displayName": "蕭登方",
      "userId": "04110943827274540537"
     },
     "user_tz": -480
    },
    "id": "70c58cda"
   },
   "outputs": [],
   "source": [
    "\"\"\"\"\n",
    "定義一個可以針對特定 DataLoader 取得模型預測結果以及分類準確度的函式\n",
    "之後也可以用來生成上傳到 Kaggle 競賽的預測結果\n",
    "\n",
    "2019/11/22 更新：在將 `tokens`、`segments_tensors` 等 tensors\n",
    "丟入模型時，強力建議指定每個 tensor 對應的參數名稱，以避免 HuggingFace\n",
    "更新 repo 程式碼並改變參數順序時影響到我們的結果。\n",
    "\"\"\"\n",
    "\n",
    "def get_predictions(model, dataloader, compute_acc=False):\n",
    "    predictions = None\n",
    "    correct = 0\n",
    "    total = 0\n",
    "      \n",
    "    with torch.no_grad():\n",
    "        # 遍巡整個資料集\n",
    "        wrong_list=[]\n",
    "        for data in dataloader:\n",
    "            # 將所有 tensors 移到 GPU 上\n",
    "            if next(model.parameters()).is_cuda:     #檢查model是否在GPU\n",
    "                data = [t.to(\"cuda:0\") for t in data if t is not None]    #sentence 跟label tensor從tuple改放到cuda list\n",
    "            tokens_tensors= data[0]   #data 已經放在cuda了 如果沒有的話 應該會報錯\n",
    "            outputs = model(input_ids=tokens_tensors)\n",
    "            #ouputs 原本是 SequenceClassifierOutput class\n",
    "            #用outputs[0]可以取出他的tensor部分 shape=(64,3)\n",
    "            logits = outputs[0]\n",
    "            _, pred = torch.max(logits.data, 1)   #後面的如果是0回傳整column中最大的,1的話回傳整row最大的\n",
    " \n",
    "            # 用來計算訓練集的分類準確率\n",
    "            if compute_acc:\n",
    "                labels = data[1]\n",
    "                total += labels.size(0)\n",
    "                correct += (pred == labels).sum().item()   #.item把tensor 轉為純量\n",
    "                \n",
    "                cur=0\n",
    "                for i in (pred!=labels):\n",
    "                    if i==True:\n",
    "                        wrong_list.append((tokens_tensors[cur],pred[cur].item(),labels[cur].item()))\n",
    "                    cur+=1\n",
    "                \n",
    "            # 將當前 batch 記錄下來\n",
    "            if predictions is None:\n",
    "                predictions = pred\n",
    "            else:\n",
    "                predictions = torch.cat((predictions, pred))  #最後會形成一長串所有的prediction\n",
    "    \n",
    "    if compute_acc:\n",
    "        acc = correct / total\n",
    "        return wrong_list, acc\n",
    "    return predictions\n",
    "    "
   ]
  },
  {
   "cell_type": "code",
   "execution_count": 27,
   "id": "ae0322f7",
   "metadata": {
    "ExecuteTime": {
     "end_time": "2023-01-04T07:47:19.230963Z",
     "start_time": "2023-01-04T07:47:18.912961Z"
    },
    "colab": {
     "base_uri": "https://localhost:8080/"
    },
    "executionInfo": {
     "elapsed": 13426,
     "status": "ok",
     "timestamp": 1666692583757,
     "user": {
      "displayName": "蕭登方",
      "userId": "04110943827274540537"
     },
     "user_tz": -480
    },
    "id": "ae0322f7",
    "outputId": "2190ad13-4d1e-438f-f9d3-210ff481a24c"
   },
   "outputs": [
    {
     "name": "stdout",
     "output_type": "stream",
     "text": [
      "device: cuda:0\n"
     ]
    }
   ],
   "source": [
    "\n",
    "# 讓模型跑在 GPU 上並取得訓練集的分類準確率\n",
    "device = torch.device(\"cuda:0\" if torch.cuda.is_available() else \"cpu\")\n",
    "print(\"device:\", device)\n",
    "model = model.to(device)     #把model移到devive 應該會是cuda:0\n",
    "acc_record =0.5 #set 0 to start saving model\n",
    "train_acc_list=[]\n",
    "val_acc_list=[]"
   ]
  },
  {
   "cell_type": "code",
   "execution_count": 28,
   "id": "a11f6fed",
   "metadata": {
    "ExecuteTime": {
     "end_time": "2023-01-04T07:47:19.246963Z",
     "start_time": "2023-01-04T07:47:19.232964Z"
    },
    "colab": {
     "base_uri": "https://localhost:8080/"
    },
    "executionInfo": {
     "elapsed": 17,
     "status": "ok",
     "timestamp": 1666692076797,
     "user": {
      "displayName": "蕭登方",
      "userId": "04110943827274540537"
     },
     "user_tz": -480
    },
    "id": "a11f6fed",
    "outputId": "fed9e16e-4708-434d-fc17-ccef91d0ece1"
   },
   "outputs": [
    {
     "name": "stdout",
     "output_type": "stream",
     "text": [
      "torch.Size([21128, 768])\n"
     ]
    }
   ],
   "source": [
    "#for data in trainloader:\n",
    "    #print(data[0].shape)\n",
    "print(next(model.parameters()).shape)"
   ]
  },
  {
   "cell_type": "code",
   "execution_count": 29,
   "id": "51b77908",
   "metadata": {
    "ExecuteTime": {
     "end_time": "2023-01-04T07:47:19.277973Z",
     "start_time": "2023-01-04T07:47:19.248963Z"
    },
    "colab": {
     "base_uri": "https://localhost:8080/"
    },
    "executionInfo": {
     "elapsed": 290,
     "status": "ok",
     "timestamp": 1666692589755,
     "user": {
      "displayName": "蕭登方",
      "userId": "04110943827274540537"
     },
     "user_tz": -480
    },
    "id": "51b77908",
    "outputId": "037c73fd-ec79-40c8-8e77-c88675e4445f"
   },
   "outputs": [
    {
     "name": "stdout",
     "output_type": "stream",
     "text": [
      "torch.Size([32, 81])\n",
      "torch.Size([32])\n",
      "<class 'list'>\n",
      "<class 'tuple'>\n"
     ]
    }
   ],
   "source": [
    "data = next(iter(trainloader))    #並沒有紀錄iter 所以不會一直next下去 只會取trainloader的開頭 並取得next\n",
    "for t in data:\n",
    "    print(t.shape)\n",
    "tmp=[t.to(\"cuda:0\") for t in data if t is not None]\n",
    "print(type(tmp))\n",
    "print(type(data))"
   ]
  },
  {
   "cell_type": "code",
   "execution_count": 30,
   "id": "5492b65b",
   "metadata": {
    "ExecuteTime": {
     "end_time": "2023-01-04T07:47:19.292963Z",
     "start_time": "2023-01-04T07:47:19.279963Z"
    }
   },
   "outputs": [],
   "source": [
    "from sam import SAM\n",
    "\n",
    "from utility.smooth_cross_entropy import smooth_crossentropy\n",
    "from utility.initialize import initialize\n",
    "from utility.step_lr import StepLR\n",
    "from utility.bypass_bn import enable_running_stats, disable_running_stats"
   ]
  },
  {
   "cell_type": "markdown",
   "id": "23b2fc8a",
   "metadata": {
    "id": "23b2fc8a"
   },
   "source": [
    "输入：\n",
    "    input_ids：训练集，torch.LongTensor类型，shape是[batch_size, sequence_length]\n",
    "    token_type_ids：可选项，当训练集是两句话时才有的。\n",
    "    attention_mask：可选项，当使用mask才有，可参考原论文。\n",
    "    labels：数据标签，torch.LongTensor类型，shape是[batch_size]"
   ]
  },
  {
   "cell_type": "code",
   "execution_count": 31,
   "id": "1d4ad51b",
   "metadata": {
    "ExecuteTime": {
     "end_time": "2023-01-04T08:01:22.487082Z",
     "start_time": "2023-01-04T07:47:19.293966Z"
    }
   },
   "outputs": [
    {
     "name": "stdout",
     "output_type": "stream",
     "text": [
      "epoch=0 iteration=0 acc=0.0\n",
      "epoch=0 iteration=10 acc=0.09375\n",
      "epoch=0 iteration=20 acc=0.0625\n",
      "epoch=0 iteration=30 acc=0.21875\n",
      "epoch=0 iteration=40 acc=0.3125\n",
      "epoch=0 iteration=50 acc=0.3125\n",
      "epoch=0 iteration=60 acc=0.21875\n",
      "epoch=0 iteration=70 acc=0.21875\n",
      "epoch=0 iteration=80 acc=0.28125\n",
      "[epoch 1] loss: 164.244, acc: 0.281,val acc: 0.314\n",
      "epoch=1 iteration=0 acc=0.3125\n",
      "epoch=1 iteration=10 acc=0.5625\n",
      "epoch=1 iteration=20 acc=0.375\n",
      "epoch=1 iteration=30 acc=0.59375\n",
      "epoch=1 iteration=40 acc=0.5\n",
      "epoch=1 iteration=50 acc=0.65625\n",
      "epoch=1 iteration=60 acc=0.5625\n",
      "epoch=1 iteration=70 acc=0.40625\n",
      "epoch=1 iteration=80 acc=0.4375\n",
      "[epoch 2] loss: 119.521, acc: 0.532,val acc: 0.460\n",
      "epoch=2 iteration=0 acc=0.625\n",
      "epoch=2 iteration=10 acc=0.8125\n",
      "epoch=2 iteration=20 acc=0.625\n",
      "epoch=2 iteration=30 acc=0.46875\n",
      "epoch=2 iteration=40 acc=0.8125\n",
      "epoch=2 iteration=50 acc=0.65625\n",
      "epoch=2 iteration=60 acc=0.71875\n",
      "epoch=2 iteration=70 acc=0.71875\n",
      "epoch=2 iteration=80 acc=0.625\n",
      "[epoch 3] loss: 85.791, acc: 0.688,val acc: 0.451\n",
      "epoch=3 iteration=0 acc=0.78125\n",
      "epoch=3 iteration=10 acc=0.8125\n",
      "epoch=3 iteration=20 acc=0.75\n",
      "epoch=3 iteration=30 acc=0.8125\n",
      "epoch=3 iteration=40 acc=0.875\n",
      "epoch=3 iteration=50 acc=0.71875\n",
      "epoch=3 iteration=60 acc=0.875\n",
      "epoch=3 iteration=70 acc=0.875\n",
      "epoch=3 iteration=80 acc=0.875\n",
      "[epoch 4] loss: 58.297, acc: 0.800,val acc: 0.498\n",
      "epoch=4 iteration=0 acc=0.875\n",
      "epoch=4 iteration=10 acc=0.90625\n",
      "epoch=4 iteration=20 acc=0.84375\n",
      "epoch=4 iteration=30 acc=0.84375\n",
      "epoch=4 iteration=40 acc=0.875\n",
      "epoch=4 iteration=50 acc=0.84375\n",
      "epoch=4 iteration=60 acc=0.8125\n",
      "epoch=4 iteration=70 acc=0.90625\n",
      "epoch=4 iteration=80 acc=0.84375\n",
      "[epoch 5] loss: 39.732, acc: 0.866,val acc: 0.538\n",
      "Save Checkpoint to: model_anime_origin.pt\n",
      "epoch=5 iteration=0 acc=0.9375\n",
      "epoch=5 iteration=10 acc=0.9375\n",
      "epoch=5 iteration=20 acc=0.96875\n",
      "epoch=5 iteration=30 acc=0.90625\n",
      "epoch=5 iteration=40 acc=0.96875\n",
      "epoch=5 iteration=50 acc=0.9375\n",
      "epoch=5 iteration=60 acc=0.9375\n",
      "epoch=5 iteration=70 acc=0.9375\n",
      "epoch=5 iteration=80 acc=0.875\n",
      "[epoch 6] loss: 26.130, acc: 0.922,val acc: 0.551\n",
      "Save Checkpoint to: model_anime_origin.pt\n",
      "epoch=6 iteration=0 acc=0.90625\n",
      "epoch=6 iteration=10 acc=0.9375\n",
      "epoch=6 iteration=20 acc=1.0\n",
      "epoch=6 iteration=30 acc=0.96875\n",
      "epoch=6 iteration=40 acc=0.96875\n",
      "epoch=6 iteration=50 acc=0.9375\n",
      "epoch=6 iteration=60 acc=0.875\n",
      "epoch=6 iteration=70 acc=1.0\n",
      "epoch=6 iteration=80 acc=0.96875\n",
      "[epoch 7] loss: 16.456, acc: 0.956,val acc: 0.566\n",
      "Save Checkpoint to: model_anime_origin.pt\n",
      "epoch=7 iteration=0 acc=1.0\n",
      "epoch=7 iteration=10 acc=1.0\n",
      "epoch=7 iteration=20 acc=0.9375\n",
      "epoch=7 iteration=30 acc=0.9375\n",
      "epoch=7 iteration=40 acc=1.0\n",
      "epoch=7 iteration=50 acc=1.0\n",
      "epoch=7 iteration=60 acc=1.0\n",
      "epoch=7 iteration=70 acc=0.90625\n",
      "epoch=7 iteration=80 acc=0.9375\n",
      "[epoch 8] loss: 10.445, acc: 0.977,val acc: 0.538\n",
      "epoch=8 iteration=0 acc=1.0\n",
      "epoch=8 iteration=10 acc=0.96875\n",
      "epoch=8 iteration=20 acc=1.0\n",
      "epoch=8 iteration=30 acc=0.96875\n",
      "epoch=8 iteration=40 acc=1.0\n",
      "epoch=8 iteration=50 acc=1.0\n",
      "epoch=8 iteration=60 acc=1.0\n",
      "epoch=8 iteration=70 acc=1.0\n",
      "epoch=8 iteration=80 acc=1.0\n",
      "[epoch 9] loss: 7.193, acc: 0.984,val acc: 0.549\n",
      "epoch=9 iteration=0 acc=0.96875\n",
      "epoch=9 iteration=10 acc=1.0\n",
      "epoch=9 iteration=20 acc=1.0\n",
      "epoch=9 iteration=30 acc=1.0\n",
      "epoch=9 iteration=40 acc=1.0\n",
      "epoch=9 iteration=50 acc=1.0\n",
      "epoch=9 iteration=60 acc=1.0\n",
      "epoch=9 iteration=70 acc=0.9375\n",
      "epoch=9 iteration=80 acc=1.0\n",
      "[epoch 10] loss: 6.072, acc: 0.984,val acc: 0.545\n",
      "epoch=10 iteration=0 acc=1.0\n",
      "epoch=10 iteration=10 acc=1.0\n",
      "epoch=10 iteration=20 acc=0.96875\n",
      "epoch=10 iteration=30 acc=0.9375\n",
      "epoch=10 iteration=40 acc=0.9375\n",
      "epoch=10 iteration=50 acc=0.9375\n",
      "epoch=10 iteration=60 acc=1.0\n",
      "epoch=10 iteration=70 acc=1.0\n",
      "epoch=10 iteration=80 acc=1.0\n",
      "[epoch 11] loss: 4.763, acc: 0.988,val acc: 0.578\n",
      "Save Checkpoint to: model_anime_origin.pt\n",
      "epoch=11 iteration=0 acc=1.0\n",
      "epoch=11 iteration=10 acc=1.0\n",
      "epoch=11 iteration=20 acc=1.0\n",
      "epoch=11 iteration=30 acc=0.96875\n",
      "epoch=11 iteration=40 acc=1.0\n",
      "epoch=11 iteration=50 acc=1.0\n",
      "epoch=11 iteration=60 acc=1.0\n",
      "epoch=11 iteration=70 acc=1.0\n",
      "epoch=11 iteration=80 acc=0.96875\n",
      "[epoch 12] loss: 3.170, acc: 0.993,val acc: 0.584\n",
      "Save Checkpoint to: model_anime_origin.pt\n",
      "epoch=12 iteration=0 acc=1.0\n",
      "epoch=12 iteration=10 acc=1.0\n",
      "epoch=12 iteration=20 acc=0.96875\n",
      "epoch=12 iteration=30 acc=1.0\n",
      "epoch=12 iteration=40 acc=1.0\n",
      "epoch=12 iteration=50 acc=1.0\n",
      "epoch=12 iteration=60 acc=1.0\n",
      "epoch=12 iteration=70 acc=0.96875\n",
      "epoch=12 iteration=80 acc=1.0\n",
      "[epoch 13] loss: 3.005, acc: 0.993,val acc: 0.549\n",
      "epoch=13 iteration=0 acc=1.0\n",
      "epoch=13 iteration=10 acc=1.0\n",
      "epoch=13 iteration=20 acc=1.0\n",
      "epoch=13 iteration=30 acc=1.0\n",
      "epoch=13 iteration=40 acc=1.0\n",
      "epoch=13 iteration=50 acc=1.0\n",
      "epoch=13 iteration=60 acc=0.96875\n",
      "epoch=13 iteration=70 acc=0.96875\n",
      "epoch=13 iteration=80 acc=1.0\n",
      "[epoch 14] loss: 2.478, acc: 0.993,val acc: 0.545\n",
      "epoch=14 iteration=0 acc=0.96875\n",
      "epoch=14 iteration=10 acc=1.0\n",
      "epoch=14 iteration=20 acc=0.96875\n",
      "epoch=14 iteration=30 acc=0.96875\n",
      "epoch=14 iteration=40 acc=1.0\n",
      "epoch=14 iteration=50 acc=1.0\n",
      "epoch=14 iteration=60 acc=1.0\n",
      "epoch=14 iteration=70 acc=1.0\n",
      "epoch=14 iteration=80 acc=1.0\n",
      "[epoch 15] loss: 2.314, acc: 0.994,val acc: 0.582\n",
      "Wall time: 14min 3s\n"
     ]
    }
   ],
   "source": [
    "%%time\n",
    "\n",
    "# 訓練模式\n",
    "model.train()\n",
    "\n",
    "# 使用 Adam Optim 更新整個分類模型的參數\n",
    "optimizer = torch.optim.Adam(model.parameters(), lr=1e-5) #1e-4 train不起來\n",
    "\n",
    "\n",
    "EPOCHS = 15\n",
    "FREQ=10\n",
    "acc_record=0.5\n",
    "\n",
    "for epoch in range(EPOCHS):\n",
    "\n",
    "    running_loss = 0.0\n",
    "    running_correct=0\n",
    "    running_count=0\n",
    "    model.train()\n",
    "    \n",
    "    for i,data in enumerate(trainloader):\n",
    "\n",
    "        tokens_tensors, labels = [t.to(device) for t in data]\n",
    "\n",
    "        # 將參數梯度歸零\n",
    "        optimizer.zero_grad()\n",
    "\n",
    "        # forward pass\n",
    "        outputs = model(input_ids=tokens_tensors,\n",
    "                        labels=labels)\n",
    "\n",
    "        loss = outputs[0]\n",
    "        logits=outputs[1]\n",
    "        \n",
    "        _, pred = torch.max(logits.data, 1)   #後面的如果是0回傳整column中最大的,1的話回傳整row最大的\n",
    "        correct = (pred == labels).sum().item()   #.item把tensor 轉為純量\n",
    "        if i%FREQ==0:            \n",
    "            print(\"epoch={} iteration={} acc={}\".format(epoch,i,correct/labels.size(0)))\n",
    "        # backward\n",
    "        loss.backward()\n",
    "        optimizer.step()\n",
    "\n",
    "        # 紀錄當前 batch loss\n",
    "        running_loss += loss.item()\n",
    "        running_count+= labels.size(0)\n",
    "        running_correct+=correct\n",
    "    # 計算分類準確率\n",
    "    model.eval()\n",
    "    acc=running_correct/running_count\n",
    "    with torch.no_grad():\n",
    "        _, val_acc = get_predictions(model, valloader, compute_acc=True)\n",
    "    train_acc_list.append(acc)\n",
    "    val_acc_list.append(val_acc)\n",
    "    print('[epoch %d] loss: %.3f, acc: %.3f,val acc: %.3f'%\n",
    "          (epoch + 1, running_loss, acc, val_acc))\n",
    "    PATH = \"model_anime_origin.pt\"\n",
    "    if val_acc > acc_record:\n",
    "        acc_record = val_acc\n",
    "        torch.save({\n",
    "            'model_state_dict': model.state_dict(),\n",
    "            'optimizer_state_dict': optimizer.state_dict(),\n",
    "        }, PATH)\n",
    "        print(\"Save Checkpoint to:\", PATH)\n"
   ]
  },
  {
   "cell_type": "code",
   "execution_count": 32,
   "id": "b22edbe4",
   "metadata": {
    "ExecuteTime": {
     "end_time": "2023-01-04T08:09:57.654730Z",
     "start_time": "2023-01-04T08:01:22.488901Z"
    },
    "code_folding": [],
    "colab": {
     "base_uri": "https://localhost:8080/"
    },
    "executionInfo": {
     "elapsed": 253770,
     "status": "ok",
     "timestamp": 1666702331436,
     "user": {
      "displayName": "蕭登方",
      "userId": "04110943827274540537"
     },
     "user_tz": -480
    },
    "id": "b22edbe4",
    "outputId": "4464ba3f-d761-4c49-c558-e677edc54a00"
   },
   "outputs": [
    {
     "name": "stdout",
     "output_type": "stream",
     "text": [
      "epoch=0 iteration=0 acc=0.96875\n",
      "epoch=0 iteration=10 acc=0.84375\n",
      "epoch=0 iteration=20 acc=0.875\n",
      "epoch=0 iteration=30 acc=0.90625\n",
      "epoch=0 iteration=40 acc=0.875\n",
      "epoch=0 iteration=50 acc=0.96875\n",
      "epoch=0 iteration=60 acc=0.71875\n",
      "epoch=0 iteration=70 acc=0.9375\n",
      "epoch=0 iteration=80 acc=0.65625\n",
      "[epoch 1] loss: 16.761, acc: 0.821,val acc: 0.559\n",
      "epoch=1 iteration=0 acc=0.84375\n",
      "epoch=1 iteration=10 acc=1.0\n",
      "epoch=1 iteration=20 acc=0.9375\n",
      "epoch=1 iteration=30 acc=0.84375\n",
      "epoch=1 iteration=40 acc=0.9375\n",
      "epoch=1 iteration=50 acc=0.96875\n",
      "epoch=1 iteration=60 acc=0.9375\n",
      "epoch=1 iteration=70 acc=0.9375\n",
      "epoch=1 iteration=80 acc=0.875\n",
      "[epoch 2] loss: 15.660, acc: 0.903,val acc: 0.551\n",
      "epoch=2 iteration=0 acc=0.96875\n",
      "epoch=2 iteration=10 acc=0.84375\n",
      "epoch=2 iteration=20 acc=0.90625\n",
      "epoch=2 iteration=30 acc=0.96875\n",
      "epoch=2 iteration=40 acc=1.0\n",
      "epoch=2 iteration=50 acc=0.9375\n",
      "epoch=2 iteration=60 acc=0.4375\n",
      "epoch=2 iteration=70 acc=0.84375\n",
      "epoch=2 iteration=80 acc=0.90625\n",
      "[epoch 3] loss: 14.815, acc: 0.903,val acc: 0.552\n",
      "epoch=3 iteration=0 acc=0.9375\n",
      "epoch=3 iteration=10 acc=0.96875\n",
      "epoch=3 iteration=20 acc=0.9375\n",
      "epoch=3 iteration=30 acc=1.0\n",
      "epoch=3 iteration=40 acc=0.75\n",
      "epoch=3 iteration=50 acc=0.90625\n",
      "epoch=3 iteration=60 acc=0.9375\n",
      "epoch=3 iteration=70 acc=0.9375\n",
      "epoch=3 iteration=80 acc=1.0\n",
      "[epoch 4] loss: 13.950, acc: 0.917,val acc: 0.553\n",
      "epoch=4 iteration=0 acc=0.65625\n",
      "epoch=4 iteration=10 acc=0.875\n",
      "epoch=4 iteration=20 acc=0.9375\n",
      "epoch=4 iteration=30 acc=1.0\n",
      "epoch=4 iteration=40 acc=0.9375\n",
      "epoch=4 iteration=50 acc=0.9375\n",
      "epoch=4 iteration=60 acc=0.90625\n",
      "epoch=4 iteration=70 acc=0.9375\n",
      "epoch=4 iteration=80 acc=1.0\n",
      "[epoch 5] loss: 12.924, acc: 0.936,val acc: 0.555\n",
      "Wall time: 8min 35s\n"
     ]
    }
   ],
   "source": [
    "%%time\n",
    "#SAM to train\n",
    "# 訓練模式\n",
    "model.train()\n",
    "\n",
    "\n",
    "#optimizer = torch.optim.Adam(model.parameters(), lr=1e-5) #1e-4 train不起來\n",
    "base_optimizer = torch.optim.SGD\n",
    "optimizer = SAM(model.parameters(), base_optimizer, rho=2.0, adaptive=True, lr=0.00003, momentum=0.9)\n",
    "#optimizer = SAM(model.parameters(), base_optimizer, rho=2.0, adaptive=True, lr=0.0003, momentum=0.9)\n",
    "EPOCHS = 5\n",
    "FREQ=10\n",
    "#acc_record=0.5\n",
    "\n",
    "for epoch in range(EPOCHS):\n",
    "\n",
    "    running_loss = 0.0\n",
    "    running_correct=0\n",
    "    running_count=0\n",
    "    model.train()\n",
    "    \n",
    "    for i,data in enumerate(trainloader):\n",
    "\n",
    "        tokens_tensors, labels = [t.to(device) for t in data]\n",
    "\n",
    "        # 將參數梯度歸零\n",
    "        optimizer.zero_grad()\n",
    "        \n",
    "        # first forward-backward step\n",
    "        enable_running_stats(model)\n",
    "        outputs = model(input_ids=tokens_tensors,\n",
    "                labels=labels)\n",
    "        logits=outputs[1]\n",
    "        \n",
    "        loss = smooth_crossentropy(logits, labels)\n",
    "        loss.mean().backward()\n",
    "        optimizer.first_step(zero_grad=True)\n",
    "\n",
    "        # second forward-backward step\n",
    "        disable_running_stats(model)     \n",
    "        outputs = model(input_ids=tokens_tensors,\n",
    "                labels=labels)\n",
    "        logits=outputs[1]\n",
    "        smooth_crossentropy(logits, labels).mean().backward()\n",
    "        optimizer.second_step(zero_grad=True)\n",
    "        \n",
    "        \n",
    "        _, pred = torch.max(logits.data, 1)   #後面的如果是0回傳整column中最大的,1的話回傳整row最大的\n",
    "        correct = (pred == labels).sum().item()   #.item把tensor 轉為純量\n",
    "        if i%FREQ==0:            \n",
    "            print(\"epoch={} iteration={} acc={}\".format(epoch,i,correct/labels.size(0)))\n",
    "\n",
    "        # 紀錄當前 batch loss\n",
    "        running_loss += loss.mean().item()\n",
    "        running_count+= labels.size(0)\n",
    "        running_correct+=correct\n",
    "    # 計算分類準確率\n",
    "    model.eval()\n",
    "    acc=running_correct/running_count\n",
    "    with torch.no_grad():\n",
    "        _, val_acc = get_predictions(model, valloader, compute_acc=True)\n",
    "        train_acc_list.append(acc)\n",
    "        val_acc_list.append(val_acc)\n",
    "        print('[epoch %d] loss: %.3f, acc: %.3f,val acc: %.3f'%\n",
    "              (epoch + 1, running_loss, acc, val_acc))\n",
    "        if val_acc > acc_record:\n",
    "            acc_record = val_acc\n",
    "            SAVE_PATH = \"model_anime_sam.pt\"\n",
    "            torch.save({\n",
    "                'model_state_dict': model.state_dict(),\n",
    "                'optimizer_state_dict': optimizer.state_dict(),\n",
    "            }, SAVE_PATH)\n",
    "            print(\"Save Checkpoint to:\", SAVE_PATH)\n"
   ]
  },
  {
   "cell_type": "code",
   "execution_count": 33,
   "id": "b79a4118",
   "metadata": {
    "ExecuteTime": {
     "end_time": "2023-01-04T08:09:57.670677Z",
     "start_time": "2023-01-04T08:09:57.656700Z"
    }
   },
   "outputs": [],
   "source": [
    "PATH=\"model_anime_sam.pt\"\n",
    "if os.path.isfile(PATH):\n",
    "    print(\"=====>LOAD checkpoint\"+PATH)\n",
    "    checkpoint = torch.load(PATH)\n",
    "    model.load_state_dict(checkpoint['model_state_dict'])\n",
    "    model = model.to(device)\n",
    "    print(\"to\",device)"
   ]
  },
  {
   "cell_type": "code",
   "execution_count": 42,
   "id": "b7da0a32",
   "metadata": {
    "ExecuteTime": {
     "end_time": "2023-01-04T08:19:05.746452Z",
     "start_time": "2023-01-04T08:15:15.574627Z"
    },
    "code_folding": [],
    "colab": {
     "base_uri": "https://localhost:8080/"
    },
    "executionInfo": {
     "elapsed": 253770,
     "status": "ok",
     "timestamp": 1666702331436,
     "user": {
      "displayName": "蕭登方",
      "userId": "04110943827274540537"
     },
     "user_tz": -480
    },
    "id": "b22edbe4",
    "outputId": "4464ba3f-d761-4c49-c558-e677edc54a00"
   },
   "outputs": [
    {
     "name": "stdout",
     "output_type": "stream",
     "text": [
      "epoch=0 iteration=0 acc=0.375\n",
      "epoch=0 iteration=10 acc=0.625\n",
      "epoch=0 iteration=20 acc=0.25\n",
      "epoch=0 iteration=30 acc=0.75\n",
      "epoch=0 iteration=40 acc=0.5\n",
      "epoch=0 iteration=50 acc=0.375\n",
      "epoch=0 iteration=60 acc=0.625\n",
      "epoch=0 iteration=70 acc=0.5\n",
      "epoch=0 iteration=80 acc=0.625\n",
      "epoch=0 iteration=90 acc=0.625\n",
      "epoch=0 iteration=100 acc=0.375\n",
      "epoch=0 iteration=110 acc=0.625\n",
      "epoch=0 iteration=120 acc=0.75\n",
      "epoch=0 iteration=130 acc=0.625\n",
      "[epoch 1] loss: 63.860, acc: 0.561,val acc: 0.822\n",
      "Save Checkpoint to: model_anime_sam82.pt\n",
      "epoch=1 iteration=0 acc=0.625\n",
      "epoch=1 iteration=10 acc=0.75\n",
      "epoch=1 iteration=20 acc=0.625\n",
      "epoch=1 iteration=30 acc=0.5\n",
      "epoch=1 iteration=40 acc=0.625\n",
      "epoch=1 iteration=50 acc=0.75\n",
      "epoch=1 iteration=60 acc=0.625\n",
      "epoch=1 iteration=70 acc=0.625\n",
      "epoch=1 iteration=80 acc=0.5\n",
      "epoch=1 iteration=90 acc=0.75\n",
      "epoch=1 iteration=100 acc=0.75\n",
      "epoch=1 iteration=110 acc=0.625\n",
      "epoch=1 iteration=120 acc=0.125\n",
      "epoch=1 iteration=130 acc=0.75\n",
      "[epoch 2] loss: 59.676, acc: 0.583,val acc: 0.825\n",
      "Save Checkpoint to: model_anime_sam82.pt\n",
      "epoch=2 iteration=0 acc=0.25\n",
      "epoch=2 iteration=10 acc=0.625\n",
      "epoch=2 iteration=20 acc=0.625\n",
      "epoch=2 iteration=30 acc=0.375\n",
      "epoch=2 iteration=40 acc=0.625\n",
      "epoch=2 iteration=50 acc=0.5\n",
      "epoch=2 iteration=60 acc=0.375\n",
      "epoch=2 iteration=70 acc=0.5\n",
      "epoch=2 iteration=80 acc=0.625\n",
      "epoch=2 iteration=90 acc=0.25\n",
      "epoch=2 iteration=100 acc=0.625\n",
      "epoch=2 iteration=110 acc=0.625\n",
      "epoch=2 iteration=120 acc=0.625\n",
      "epoch=2 iteration=130 acc=0.75\n",
      "[epoch 3] loss: 57.583, acc: 0.588,val acc: 0.835\n",
      "Save Checkpoint to: model_anime_sam83.pt\n",
      "epoch=3 iteration=0 acc=0.375\n",
      "epoch=3 iteration=10 acc=0.5\n",
      "epoch=3 iteration=20 acc=0.75\n",
      "epoch=3 iteration=30 acc=0.875\n",
      "epoch=3 iteration=40 acc=0.375\n",
      "epoch=3 iteration=50 acc=0.75\n",
      "epoch=3 iteration=60 acc=0.5\n",
      "epoch=3 iteration=70 acc=0.5\n",
      "epoch=3 iteration=80 acc=0.75\n",
      "epoch=3 iteration=90 acc=0.625\n",
      "epoch=3 iteration=100 acc=0.75\n",
      "epoch=3 iteration=110 acc=0.875\n",
      "epoch=3 iteration=120 acc=0.25\n",
      "epoch=3 iteration=130 acc=0.625\n",
      "[epoch 4] loss: 54.060, acc: 0.609,val acc: 0.850\n",
      "Save Checkpoint to: model_anime_sam84.pt\n",
      "epoch=4 iteration=0 acc=0.75\n",
      "epoch=4 iteration=10 acc=0.75\n",
      "epoch=4 iteration=20 acc=0.5\n",
      "epoch=4 iteration=30 acc=0.875\n",
      "epoch=4 iteration=40 acc=0.625\n",
      "epoch=4 iteration=50 acc=0.625\n",
      "epoch=4 iteration=60 acc=0.75\n",
      "epoch=4 iteration=70 acc=0.375\n",
      "epoch=4 iteration=80 acc=0.875\n",
      "epoch=4 iteration=90 acc=0.75\n",
      "epoch=4 iteration=100 acc=0.625\n",
      "epoch=4 iteration=110 acc=0.625\n",
      "epoch=4 iteration=120 acc=0.625\n",
      "epoch=4 iteration=130 acc=0.625\n",
      "[epoch 5] loss: 50.646, acc: 0.623,val acc: 0.865\n",
      "Save Checkpoint to: model_anime_sam86.pt\n",
      "Wall time: 3min 50s\n"
     ]
    }
   ],
   "source": [
    "%%time\n",
    "#SAM to Full data\n",
    "# 訓練模式\n",
    "model.train()\n",
    "\n",
    "# 使用 Adam Optim 更新整個分類模型的參數\n",
    "#optimizer = torch.optim.Adam(model.parameters(), lr=1e-5) #1e-4 train不起來\n",
    "base_optimizer = torch.optim.SGD\n",
    "optimizer = SAM(model.parameters(), base_optimizer, rho=2.0, adaptive=True, lr=0.00003, momentum=0.9)\n",
    "#optimizer = SAM(model.parameters(), base_optimizer, rho=2.0, adaptive=True, lr=0.001, momentum=0.9)\n",
    "EPOCHS = 12\n",
    "FREQ=10\n",
    "#acc_record=0.5\n",
    "\n",
    "for epoch in range(EPOCHS):\n",
    "\n",
    "    running_loss = 0.0\n",
    "    running_correct=0\n",
    "    running_count=0\n",
    "    model.train()\n",
    "    \n",
    "    for i,data in enumerate(totalloader):\n",
    "\n",
    "        tokens_tensors, labels = [t.to(device) for t in data]\n",
    "\n",
    "        # 將參數梯度歸零\n",
    "        optimizer.zero_grad()\n",
    "        \n",
    "        # first forward-backward step\n",
    "        enable_running_stats(model)\n",
    "        outputs = model(input_ids=tokens_tensors,\n",
    "                labels=labels)\n",
    "        logits=outputs[1]\n",
    "        \n",
    "        loss = smooth_crossentropy(logits, labels)\n",
    "        loss.mean().backward()\n",
    "        optimizer.first_step(zero_grad=True)\n",
    "\n",
    "        # second forward-backward step\n",
    "        disable_running_stats(model)     \n",
    "        outputs = model(input_ids=tokens_tensors,\n",
    "                labels=labels)\n",
    "        logits=outputs[1]\n",
    "        smooth_crossentropy(logits, labels).mean().backward()\n",
    "        optimizer.second_step(zero_grad=True)\n",
    "        \n",
    "        \n",
    "        _, pred = torch.max(logits.data, 1)   #後面的如果是0回傳整column中最大的,1的話回傳整row最大的\n",
    "        correct = (pred == labels).sum().item()   #.item把tensor 轉為純量\n",
    "        if i%FREQ==0:            \n",
    "            print(\"epoch={} iteration={} acc={}\".format(epoch,i,correct/labels.size(0)))\n",
    "\n",
    "        # 紀錄當前 batch loss\n",
    "        running_loss += loss.mean().item()\n",
    "        running_count+= labels.size(0)\n",
    "        running_correct+=correct\n",
    "    # 計算分類準確率\n",
    "    model.eval()\n",
    "    acc=running_correct/running_count\n",
    "    with torch.no_grad():\n",
    "        _, val_acc = get_predictions(model, valloader, compute_acc=True)\n",
    "    train_acc_list.append(acc)\n",
    "    val_acc_list.append(val_acc)\n",
    "    print('[epoch %d] loss: %.3f, acc: %.3f,val acc: %.3f'%\n",
    "          (epoch + 1, running_loss, acc, val_acc))\n",
    "    if val_acc > acc_record:\n",
    "        acc_record = val_acc\n",
    "        SAVE_PATH = \"model_anime_sam\"+str(int(val_acc*100))+\".pt\"\n",
    "        torch.save({\n",
    "            'model_state_dict': model.state_dict(),\n",
    "            'optimizer_state_dict': optimizer.state_dict(),\n",
    "        }, SAVE_PATH)\n",
    "        print(\"Save Checkpoint to:\", SAVE_PATH)\n"
   ]
  },
  {
   "cell_type": "code",
   "execution_count": 35,
   "id": "f8d5fcfb",
   "metadata": {
    "ExecuteTime": {
     "end_time": "2023-01-04T08:13:50.905149Z",
     "start_time": "2023-01-04T08:13:44.132801Z"
    }
   },
   "outputs": [
    {
     "name": "stdout",
     "output_type": "stream",
     "text": [
      "0.808256880733945\n",
      "(tensor([ 101, 2641,  785, 1558, 7029, 5953, 5948, 4158,  862,  889, 1168, 3346,\n",
      "         776, 8024, 1961, 6303, 6245, 1339, 6965,  678, 8024, 1058, 2552, 2361,\n",
      "        3307, 5543, 6878, 1168, 5156, 5251,  102,    0,    0,    0,    0,    0,\n",
      "           0,    0,    0,    0,    0,    0,    0,    0,    0,    0,    0],\n",
      "       device='cuda:0'), 2, 5)\n",
      "[CLS]悠仁問野薔薇為何來到東京，她說討厭鄉下，內心希望能遇到紗織[SEP]\n",
      "predict:五等分的新娘 true:咒術迴戰\n",
      "[CLS]而這時萊納腦海中浮現出的記憶是[UNK][UNK]？[SEP]\n",
      "predict:Re從零開始的異世界生活 true:進擊的巨人\n",
      "[CLS]而將兩人的狀況看在眼中的一花，給兩人提出建議[SEP]\n",
      "predict:Re從零開始的異世界生活 true:五等分的新娘\n",
      "[CLS]待人真誠的富家千金，也是安妮亞的第一個好朋友，自進校首日以來便與安妮亞形影不離[SEP]\n",
      "predict:無職轉生 true:間諜家家酒\n",
      "[CLS]接下來，左右命運的舞台的幕布升起[SEP]\n",
      "predict:Re從零開始的異世界生活 true:出租女友\n",
      "[CLS]不知過了多久，在禮拜堂的地下醒來的艾倫發現身體被鎖鏈所拘束，眼前站著的是羅德和希斯特利亞[SEP]\n",
      "predict:Re從零開始的異世界生活 true:進擊的巨人\n",
      "[CLS]在第12卷中因為不慎踩到轉移迷宮的陷阱，在滿是魔物的迷宮中獨自戰鬥長達一個月，瀕臨死亡時被魯迪救出並對魯迪產生愛慕[SEP]\n",
      "predict:Re從零開始的異世界生活 true:無職轉生\n",
      "[CLS]由於魔力枯竭和極度恐懼頭髮變成了白色，以菲茲的身份女扮男裝擔任起愛麗兒的貼身護衛[SEP]\n",
      "predict:Re從零開始的異世界生活 true:無職轉生\n",
      "[CLS]千鶴醒來，發現那裡是小島的淺灘[SEP]\n",
      "predict:鬼滅之刃 true:出租女友\n",
      "[CLS]但在逃離斯特黑斯區的最後一步，通過陰暗狹窄的地道時，亞妮卻識破阿明原計策[SEP]\n",
      "predict:Re從零開始的異世界生活 true:進擊的巨人\n",
      "[CLS]驀然醒悟之時，利威爾正站在面前[SEP]\n",
      "predict:Re從零開始的異世界生活 true:進擊的巨人\n",
      "[CLS]被識破身份的亞妮放棄了艾倫的勸說，露出可怕微笑，利用戒指上的尖鉤，在希娜之壁中變身[SEP]\n",
      "predict:Re從零開始的異世界生活 true:進擊的巨人\n",
      "[CLS]擔心自己成為洛伊德與費歐娜之間的第三者[SEP]\n",
      "predict:Re從零開始的異世界生活 true:間諜家家酒\n",
      "[CLS]在肯尼的腦海中，浮現出了自己壯烈的一生[SEP]\n",
      "predict:無職轉生 true:進擊的巨人\n",
      "[CLS]原本是東國某組織以創造高智力動物為目的的〈apple〉計劃[註5]所誕生的第8個實驗體，曾經遭到計劃研究員的非人道對待[SEP]\n",
      "predict:Re從零開始的異世界生活 true:間諜家家酒\n",
      "[CLS][UNK]不要笑了，告訴我啊[UNK][UNK]爺爺[UNK][UNK][UNK][SEP]\n",
      "predict:Re從零開始的異世界生活 true:出租女友\n",
      "[CLS]艾莉絲迎來了10歲生日[SEP]\n",
      "predict:Re從零開始的異世界生活 true:無職轉生\n",
      "[CLS]一直嘗試著接近戴斯蒙德，原計畫計劃a是要讓安妮亞集滿八顆〈星星st##ella〉，以參加伊甸學園的家長懇親會[SEP]\n",
      "predict:Re從零開始的異世界生活 true:間諜家家酒\n",
      "[CLS]善逸躺在屋頂動彈不得，胡蝶忍出現[SEP]\n",
      "predict:咒術迴戰 true:鬼滅之刃\n",
      "[CLS]在魔法大學測試中與菲茲身份的希露菲邂逅，但由於希露菲變化過於巨大見面時並沒有認出來[SEP]\n",
      "predict:Re從零開始的異世界生活 true:無職轉生\n",
      "[CLS]利威爾班因此遭到王政府的通緝，奉命搜捕調查兵的憲兵馬爾洛和希琪踏入了利威爾班躲藏著的森林[SEP]\n",
      "predict:Re從零開始的異世界生活 true:進擊的巨人\n",
      "[CLS]在與龍神奧爾斯蒂德的對決中，讓龍神奧爾斯蒂德消耗了一定量的魔力，並讓其拔出了神刀[SEP]\n",
      "predict:Re從零開始的異世界生活 true:無職轉生\n",
      "[CLS]腐敗的憲兵團上級更是把整個任務全權交給新兵們辦理[SEP]\n",
      "predict:間諜家家酒 true:進擊的巨人\n",
      "[CLS]伏黑問悠仁還好嗎？悠仁想起順平說沒事，不會再輸了，伏黑說他也是，大家充滿了鬥志[SEP]\n",
      "predict:鬼滅之刃 true:咒術迴戰\n",
      "[CLS]本集的最後，畫面帶到牧緒被一堆緞帶纏住[SEP]\n",
      "predict:Re從零開始的異世界生活 true:鬼滅之刃\n",
      "[CLS]不過礙於面子，總是不承認對安妮亞的傾慕，而每次安妮亞對他進行讀心時也只會感到一絲惡寒[SEP]\n",
      "predict:Re從零開始的異世界生活 true:間諜家家酒\n",
      "[CLS]讓奄奄一息的他再次清醒的，是那個比誰都愛著他，但同時也比誰都對他更嚴格的人[SEP]\n",
      "predict:無職轉生 true:Re從零開始的異世界生活\n",
      "[CLS]野薔薇小學一年級時，溫柔可愛的紗織從東京搬到他們村子，卻被村民排擠且趕走[SEP]\n",
      "predict:間諜家家酒 true:咒術迴戰\n",
      "[CLS]因為過往在組織的經歷而討厭讀書，甚至想透過讀心來作弊應付考試，但在洛伊德的提點和過去展現能力而被同儕排擠欺負的經歷，決定不依靠讀心認真讀書準備考試[SEP]\n",
      "predict:Re從零開始的異世界生活 true:間諜家家酒\n",
      "[CLS]能夠讀心，人類和動物的思想都可以讀取，但自身無法完全控制，也不清楚讀取範圍，過度使用能力會流鼻血[7][SEP]\n",
      "predict:Re從零開始的異世界生活 true:間諜家家酒\n",
      "[CLS][UNK]千鶴不能收下這個[UNK][UNK][UNK][SEP]\n",
      "predict:鬼滅之刃 true:出租女友\n",
      "[CLS]除了工作外絕不濫用力量，即便腦袋冒出一些使用暴力的想法也會自我克制[SEP]\n",
      "predict:Re從零開始的異世界生活 true:間諜家家酒\n",
      "[CLS][UNK]啊，哈嘍[SEP]\n",
      "predict:Re從零開始的異世界生活 true:出租女友\n",
      "[CLS]就這樣，偵查兵團回到了壁內[SEP]\n",
      "predict:Re從零開始的異世界生活 true:進擊的巨人\n",
      "[CLS]揪出真正的兇手底是誰[SEP]\n",
      "predict:咒術迴戰 true:Re從零開始的異世界生活\n",
      "[CLS]該名男性有著綠色頭髮，額頭上還有類似寶石的石頭，那正是洛琪希交代絕對不能接近的斯佩路德族才有的特徵[SEP]\n",
      "predict:Re從零開始的異世界生活 true:無職轉生\n",
      "[CLS]即現在的艾倫能做的事情是老實等待到直至夜晚而已[SEP]\n",
      "predict:Re從零開始的異世界生活 true:進擊的巨人\n",
      "[CLS]一旁還有一名男人的身影[SEP]\n",
      "predict:Re從零開始的異世界生活 true:無職轉生\n",
      "[CLS][UNK]我現在去你那邊[SEP]\n",
      "predict:Re從零開始的異世界生活 true:出租女友\n",
      "[CLS]性格天然呆，腦袋不太好，容易相信他人的說詞，也有許多超乎常人的幻想[SEP]\n",
      "predict:無職轉生 true:間諜家家酒\n",
      "[CLS]乙骨看到為阻擋夏油而身受重傷的真希、狗卷、貓熊三人，勃然大怒，叫出里香對抗夏油[SEP]\n",
      "predict:鬼滅之刃 true:咒術迴戰\n",
      "[CLS]七大列強之一、龍神的右臂、魯德傭兵團的會長、魔導王、拉諾亞魔法大學的龍頭老大、甲龍歷400年代中最強的魔法師[SEP]\n",
      "predict:Re從零開始的異世界生活 true:無職轉生\n",
      "[CLS][UNK]啊[UNK][UNK]唔[UNK][UNK][UNK]小墨在聲音和容貌上都是超絕美少女，但她卻非常怕生，以至於無法和人打招呼[SEP]\n",
      "predict:無職轉生 true:出租女友\n",
      "[CLS]那是5年前的某個夜晚，雷斯家被襲擊的真相：那個晚上殺死羅德全家人的，正是艾倫的父親格里沙·耶格爾[SEP]\n",
      "predict:無職轉生 true:進擊的巨人\n",
      "[CLS]因為對艾倫的想念，三笠不禁流淚[SEP]\n",
      "predict:Re從零開始的異世界生活 true:進擊的巨人\n",
      "[CLS][UNK]別開玩笑了！！起來吧[SEP]\n",
      "predict:Re從零開始的異世界生活 true:出租女友\n",
      "[CLS]常為了兼顧〈梟〉計畫和其他任務而弄得心力交瘁，開始考慮戒掉導致胃痛的咖啡因[SEP]\n",
      "predict:Re從零開始的異世界生活 true:間諜家家酒\n",
      "[CLS]奧托將被加菲爾抓住並監禁起來的昴給救了出來[SEP]\n",
      "predict:無職轉生 true:Re從零開始的異世界生活\n",
      "[CLS]艾倫問道：[UNK]我不知道為什麼要見死不救！我也不知道為什麼不解釋一下！[UNK][SEP]\n",
      "predict:Re從零開始的異世界生活 true:進擊的巨人\n",
      "[CLS]在多次死亡的循環中，雖然曾經發生過因為白鯨的襲擊，而引起[UNK]存在[UNK]被抹滅的前例[SEP]\n",
      "predict:進擊的巨人 true:Re從零開始的異世界生活\n",
      "[CLS]但後來玩伴們在戰場上犧牲，讓他深刻了解到戰爭的殘酷[SEP]\n",
      "predict:Re從零開始的異世界生活 true:間諜家家酒\n",
      "[CLS]哥哥德米特律斯已為〈皇帝的學徒〉優等生，因此極希望父親能關注自己，而努力想成為皇帝學徒，即使其父母在開學典禮當日並未出席[SEP]\n",
      "predict:無職轉生 true:間諜家家酒\n",
      "[CLS]但兩人漸漸長大後因為姐姐天資聰穎，使得雷姆也跟著受到眾人的期待，但雷姆似乎卻不像姐姐那樣有著強大的力量，所以一直覺得很自卑[SEP]\n",
      "predict:無職轉生 true:Re從零開始的異世界生活\n",
      "[CLS]米格路德族村長的女兒[SEP]\n",
      "predict:進擊的巨人 true:無職轉生\n",
      "[CLS]寫在信中的內容是[SEP]\n",
      "predict:Re從零開始的異世界生活 true:進擊的巨人\n",
      "[CLS]本身是東國人，但因為看不慣政府的作法而協助西國[SEP]\n",
      "predict:Re從零開始的異世界生活 true:間諜家家酒\n",
      "[CLS]他憑著里香的力量，跟夏油打得平分秋色，並在最後以自己的生命為代價跟里香締結契約，成功擊退夏油[SEP]\n",
      "predict:鬼滅之刃 true:咒術迴戰\n",
      "[CLS]順平說漠不關心才是美德，真人說順平卻想要復仇，還說他透過觸碰靈魂來改變生物形狀，要順平別被侷限，他會肯定順平的一切[SEP]\n",
      "predict:五等分的新娘 true:咒術迴戰\n",
      "[CLS]另一頭，眼前出現的是被白雪覆蓋的廣場，裡面擠滿了[UNK]肩雜沓的聖域民眾以及阿拉姆的村民們[SEP]\n",
      "predict:進擊的巨人 true:Re從零開始的異世界生活\n",
      "[CLS]名為艾莉絲·格雷拉特[SEP]\n",
      "predict:Re從零開始的異世界生活 true:無職轉生\n",
      "[CLS]有著凌駕在洛伊德之上的身體能力，已達到非人的境界，但對洛伊德聲稱是學習瑜伽和防身術[SEP]\n",
      "predict:Re從零開始的異世界生活 true:間諜家家酒\n",
      "[CLS]就這樣，某一天，[SEP]\n",
      "predict:無職轉生 true:出租女友\n",
      "[CLS]艾倫等人回顧了過去的戰鬥，再次下定了決心[SEP]\n",
      "predict:Re從零開始的異世界生活 true:進擊的巨人\n",
      "[CLS]接著，某個人物浮現在了艾倫的腦海中[SEP]\n",
      "predict:Re從零開始的異世界生活 true:進擊的巨人\n",
      "[CLS]但是，這仍然是一個險危險的作戰[SEP]\n",
      "predict:Re從零開始的異世界生活 true:進擊的巨人\n",
      "[CLS]在老魯迪的世界線中因為人神迫害死於阿斯拉王國的內亂中[SEP]\n",
      "predict:進擊的巨人 true:無職轉生\n",
      "[CLS]喜歡發明各種道具，偶爾會參加慈善活動[SEP]\n",
      "predict:Re從零開始的異世界生活 true:間諜家家酒\n",
      "[CLS]由於身世不低，所以不懼怕達米安的身份，是除安妮亞以外少數會正面反駁達米安的學生[SEP]\n",
      "predict:無職轉生 true:間諜家家酒\n",
      "[CLS]唐納文·戴斯蒙德的次子[SEP]\n",
      "predict:無職轉生 true:間諜家家酒\n",
      "[CLS]安妮亞面試時的考官之一，非常欣賞洛伊德·佛傑，並曾因為其表現內省自己的施教作為，面試佛傑一家當天因無法忍受梅鐸對佛傑一家的刁難，而將其一拳打倒在地[SEP]\n",
      "predict:Re從零開始的異世界生活 true:間諜家家酒\n",
      "[CLS]鬼之一族中，雙胞胎對鬼族來說是會帶來不幸的存在，按照規定必須將雙胞胎進行處分[SEP]\n",
      "predict:鬼滅之刃 true:Re從零開始的異世界生活\n",
      "[CLS]起初是一個依仗父親權勢的二世祖，待人高高在上，但實際上本性不壞，僅是出於對家族的榮譽感而使他有點自視甚高[SEP]\n",
      "predict:無職轉生 true:間諜家家酒\n",
      "[CLS]阻擋在欲追的利威爾面前的神秘男子凱尼看來是過去和利威爾有關係的對象[SEP]\n",
      "predict:Re從零開始的異世界生活 true:進擊的巨人\n",
      "[CLS]調查兵團在中央憲兵的設計誣陷下背負了殺害平民的罪行[SEP]\n",
      "predict:間諜家家酒 true:進擊的巨人\n",
      "[CLS][UNK]萬一奪回作戰失敗了呢?[UNK][UNK]我能拯救人類嗎?[UNK]阿爾敏和不安著的艾倫交談，兩人回顧了至今為止的事情[UNK][UNK][SEP]\n",
      "predict:Re從零開始的異世界生活 true:進擊的巨人\n",
      "[CLS]兩人回去找伏黑，伏黑說悠仁不准吃下手指，結果悠仁要拿時被宿[UNK]張口吃掉[SEP]\n",
      "predict:鬼滅之刃 true:咒術迴戰\n",
      "[CLS]在被神秘光芒包圍的魯迪烏斯面前，出現了自稱是神明的人神[SEP]\n",
      "predict:進擊的巨人 true:無職轉生\n",
      "[CLS]但是在一個月後，就發現女僕莉莉雅也懷孕了[SEP]\n",
      "predict:Re從零開始的異世界生活 true:無職轉生\n",
      "[CLS]原為伊甸學園第三宿舍賽希爾舍監，66歲[SEP]\n",
      "predict:Re從零開始的異世界生活 true:間諜家家酒\n",
      "[CLS]喜歡發明各種道具，偶爾會參加慈善活動[SEP]\n",
      "predict:Re從零開始的異世界生活 true:間諜家家酒\n",
      "[CLS]一個月後，2018年9月，電影院內發現三名死狀奇特的高中男屍，吉野順平跑到巷子內問是不是真人做的，真人發現順平看的見他，七海建人帶著悠仁來到電影院[SEP]\n",
      "predict:鬼滅之刃 true:咒術迴戰\n",
      "[CLS]沒有戰鬥裝備的104期訓練兵到塔中暫時避難，不過，城堡被突破只是時間的問題[SEP]\n",
      "predict:Re從零開始的異世界生活 true:進擊的巨人\n",
      "[CLS]正被小混混狠打一頓時，他的眼前出現了一名少女[SEP]\n",
      "predict:無職轉生 true:Re從零開始的異世界生活\n",
      "[CLS]他以之後不會再向家人多拿錢作為前提，從父母那裡拿到日幣100萬的入學助金[SEP]\n",
      "predict:間諜家家酒 true:出租女友\n",
      "[CLS]在那天晚上回想起了以成為戰士為目標的童年時光[SEP]\n",
      "predict:Re從零開始的異世界生活 true:進擊的巨人\n",
      "[CLS]尤彌爾想起年幼的自己以前在貧民街中生活的時候，遭受著不幸的命運，然後直到與克里斯塔的相遇[SEP]\n",
      "predict:無職轉生 true:進擊的巨人\n",
      "[CLS]康尼，萊納和貝特霍爾德所在的南班與克里斯塔和尤彌爾的西班在夜晚中相遇，兩班決定在厄特加爾城堡過夜[SEP]\n",
      "predict:Re從零開始的異世界生活 true:進擊的巨人\n",
      "[CLS]和佛傑一家的關係都很要好，偶爾會幫忙照顧安妮亞[SEP]\n",
      "predict:無職轉生 true:間諜家家酒\n",
      "[CLS]在與人神邂逅後，等魯迪烏斯再度醒來，已經身處魔大陸的荒野上[SEP]\n",
      "predict:Re從零開始的異世界生活 true:無職轉生\n",
      "[CLS]你對她認真起來了？[UNK][SEP]\n",
      "predict:Re從零開始的異世界生活 true:出租女友\n",
      "[CLS]專用武器為針狀的格檔匕首[SEP]\n",
      "predict:Re從零開始的異世界生活 true:間諜家家酒\n",
      "[CLS]不過有一位顧客來到店裡，打斷了他們的對話[SEP]\n",
      "predict:間諜家家酒 true:出租女友\n",
      "[CLS]身為魔族之一的米格路德族卻無法使用其一族的特殊能力[UNK][UNK]遠程通話心靈感應[SEP]\n",
      "predict:Re從零開始的異世界生活 true:無職轉生\n",
      "[CLS]組屋鞣造跟真人說要把五條做成掛衣架，並放下了帳，只有五條無法進入，他要歌姬跟樂巖寺趕緊進去，鞣造出現，樂巖寺要歌姬先去救學生，樂巖寺拿出了電吉他[SEP]\n",
      "predict:鬼滅之刃 true:咒術迴戰\n",
      "[CLS]但是卻傳來了尼克神父被暗殺的消息[SEP]\n",
      "predict:Re從零開始的異世界生活 true:進擊的巨人\n",
      "[CLS]三人互相隱瞞真實身份，就此過起虛假的家庭生活[SEP]\n",
      "predict:無職轉生 true:間諜家家酒\n",
      "[CLS]在第17卷中成功擁立愛麗兒為國王后辭去了貼身護衛的職業，以家庭主婦的身份全心全意的照顧魯迪及其孩子[SEP]\n",
      "predict:Re從零開始的異世界生活 true:無職轉生\n",
      "[CLS]因為這可憎的仇恨須得親手了結，艾倫與其發生戰鬥[UNK][UNK][SEP]\n",
      "predict:Re從零開始的異世界生活 true:進擊的巨人\n",
      "[CLS]然而，艾倫在挖出亞妮本體時的一絲遲疑，使亞妮有機會用堅硬的水晶石保護住自己[SEP]\n",
      "predict:Re從零開始的異世界生活 true:進擊的巨人\n",
      "[CLS][UNK]鑰匙[UNK][UNK]丟了[UNK][UNK][UNK][SEP]\n",
      "predict:Re從零開始的異世界生活 true:出租女友\n",
      "[CLS]並對她說明邊境伯提出在這次同盟中希望能締結同盟，且已經做好準備能讓村民進行避難[SEP]\n",
      "predict:進擊的巨人 true:Re從零開始的異世界生活\n",
      "[CLS]在透過讀心發現洛伊德需要一個孩子好執行自己的任務時，因為感到有趣而成為他的養女且害怕又被拋棄[SEP]\n",
      "predict:無職轉生 true:間諜家家酒\n",
      "[CLS]到底，尤彌爾會如何行動呢!?[SEP]\n",
      "predict:Re從零開始的異世界生活 true:進擊的巨人\n",
      "[CLS]越是住在牆壁內側的人，就越是害怕他是引領大家走向毀滅的惡魔，越是住在牆壁外側的人，就越是稱之為引領大家走向希望的救世主[SEP]\n",
      "predict:Re從零開始的異世界生活 true:進擊的巨人\n",
      "[CLS]利威爾把處理兩名憲兵的任務交給了讓[UNK][UNK][SEP]\n",
      "predict:Re從零開始的異世界生活 true:進擊的巨人\n",
      "[CLS]而漢尼斯則是鼓勵著這樣的三笠和阿明[SEP]\n",
      "predict:鬼滅之刃 true:進擊的巨人\n",
      "[CLS]韓吉分隊長難過的快要瘋了[SEP]\n",
      "predict:Re從零開始的異世界生活 true:進擊的巨人\n",
      "[CLS]最近從木部那裡聽說，栗林的樣子很奇怪[SEP]\n",
      "predict:Re從零開始的異世界生活 true:出租女友\n",
      "[CLS]她作為女演員，隸屬於於招財貓劇團、蒼蘭事務所[SEP]\n",
      "predict:五等分的新娘 true:出租女友\n",
      "[CLS]亞妮從沉睡中醒來，和其他憲兵隊成員接到上級下達的新任務[UNK][UNK]護送調查兵團回王都[SEP]\n",
      "predict:Re從零開始的異世界生活 true:進擊的巨人\n",
      "[CLS]在轉移事件中與愛麗絲一起被轉移到了魔大陸[SEP]\n",
      "predict:Re從零開始的異世界生活 true:無職轉生\n",
      "[CLS]考慮到新的試鏡和拍攝日程，讓小百合看自己出演的電影的夢想似乎無法實現[SEP]\n",
      "predict:五等分的新娘 true:出租女友\n",
      "[CLS]無慘希望找到能夠克服陽光的方法，便製造許多手下[SEP]\n",
      "predict:Re從零開始的異世界生活 true:鬼滅之刃\n",
      "[CLS]之後因左額中槍僥倖逃過一劫後重聚曾經的玩伴們，並約好要一起去吃一餐[SEP]\n",
      "predict:Re從零開始的異世界生活 true:間諜家家酒\n",
      "[CLS]順平跟兩位同學在里櫻高中的影像研究社討論劇情，翔太學長帶著一群人進來要他們讓出社辦並圍毆他們[SEP]\n",
      "predict:五等分的新娘 true:咒術迴戰\n",
      "[CLS]但是，當男人睜開眼睛的時候，那裡是劍與魔法的異世界[SEP]\n",
      "predict:Re從零開始的異世界生活 true:無職轉生\n",
      "[CLS]調查兵團眾人無法打開水晶石，但總算對上級有個交代，保住了調查兵團，使艾倫免去被解剖的麻煩[SEP]\n",
      "predict:Re從零開始的異世界生活 true:進擊的巨人\n",
      "[CLS]當二人的手觸碰到後背時，艾倫的腦中浮現出了不祥的記憶[SEP]\n",
      "predict:Re從零開始的異世界生活 true:進擊的巨人\n",
      "[CLS]撼動空中般的咆嘯響徹雲霄，在上空出現了巨大的白鯨[SEP]\n",
      "predict:進擊的巨人 true:Re從零開始的異世界生活\n",
      "[CLS]對戀愛充滿興趣，誤以為安妮亞喜歡達米安，後來更因為看了安妮亞的全家福照片而迷戀上洛伊德[SEP]\n",
      "predict:無職轉生 true:間諜家家酒\n",
      "[CLS]林間學校的最後一天[SEP]\n",
      "predict:Re從零開始的異世界生活 true:五等分的新娘\n",
      "[CLS]失去了幼年記憶的的希斯特利亞睜開眼睛，發現了一個名為羅德·雷斯的男子自稱是她的父親[SEP]\n",
      "predict:無職轉生 true:進擊的巨人\n",
      "[CLS]在西隆王國中通過扎諾巴的幫助解救了被軟禁的愛夏和莉莉雅[SEP]\n",
      "predict:Re從零開始的異世界生活 true:無職轉生\n",
      "[CLS]在本世界線中因為老魯迪的告知未感染魔石症[SEP]\n",
      "predict:Re從零開始的異世界生活 true:無職轉生\n",
      "[CLS]和佛傑一家的關係都很要好，偶爾會幫忙照顧安妮亞[SEP]\n",
      "predict:無職轉生 true:間諜家家酒\n",
      "[CLS]希斯特利亞違背了羅德的意志，打算帶著艾倫從禮堂逃出[SEP]\n",
      "predict:Re從零開始的異世界生活 true:進擊的巨人\n",
      "[CLS]明天終於就是去林間學校的日子了[SEP]\n",
      "predict:Re從零開始的異世界生活 true:五等分的新娘\n",
      "[CLS]因為實力問題只能看到幾秒後的未來[SEP]\n",
      "predict:Re從零開始的異世界生活 true:無職轉生\n",
      "[CLS]上弦之陸用來支配花街的緞帶都回來了，外表變化劇烈，且感覺起來更加危險[SEP]\n",
      "predict:五等分的新娘 true:鬼滅之刃\n",
      "[CLS]伏黑要野薔薇別跟悠仁說共振的事，因為悠仁也是為了救他才會吃下手指，但宿[UNK]已經告訴了悠仁說那些人都是他害死的，悠仁要他別跟伏黑說[SEP]\n",
      "predict:鬼滅之刃 true:咒術迴戰\n",
      "[CLS]在伊甸學園生活中經常和貝琪一起行動[SEP]\n",
      "predict:Re從零開始的異世界生活 true:間諜家家酒\n",
      "[CLS]生活中最為親近安妮亞，因此有時看到她親近於別的人或物品例如玩偶、紀念物會產生嫉妒[SEP]\n",
      "predict:Re從零開始的異世界生活 true:間諜家家酒\n",
      "[CLS]羅德一邊抱住希斯特利亞，一邊說出了關於雷斯家的重大秘密[SEP]\n",
      "predict:無職轉生 true:進擊的巨人\n",
      "[CLS]但是在這種情況下，三個人都不能得到幫助，克里斯塔採取的決斷是!?[SEP]\n",
      "predict:Re從零開始的異世界生活 true:進擊的巨人\n",
      "[CLS]那是在遙遠的過去，400年前所發生的事[SEP]\n",
      "predict:進擊的巨人 true:Re從零開始的異世界生活\n",
      "[CLS]乙骨打算交出自己生命時，驚訝地發現里香的詛咒已經解除[SEP]\n",
      "predict:鬼滅之刃 true:咒術迴戰\n",
      "[CLS]但是有一天，艾莉絲因為沒有休息日的上課壓力而再次變得狂暴[UNK][UNK][SEP]\n",
      "predict:Re從零開始的異世界生活 true:無職轉生\n",
      "[CLS]為了進入伊甸學園就讀而謊稱是6歲，但實際年齡應為4、5歲左右[SEP]\n",
      "predict:Re從零開始的異世界生活 true:間諜家家酒\n",
      "[CLS]狗卷、加茂跟伏黑被困住，花御說祂只是想守護這個星球，因為森林、海洋跟天空已經無法與人類共存，要他們去死並成為賢者[SEP]\n",
      "predict:鬼滅之刃 true:咒術迴戰\n",
      "[CLS]亞妮心存疑慮的答應了[SEP]\n",
      "predict:Re從零開始的異世界生活 true:進擊的巨人\n",
      "[CLS]與安妮亞第一次在入學典禮見面時，不但對她出言不遜還汙辱她的養父，因此遭到憤怒的安妮亞一記重拳[SEP]\n",
      "predict:Re從零開始的異世界生活 true:間諜家家酒\n",
      "[CLS][UNK]在篝火晚會上一起跳舞的兩人會結緣一生[UNK]這一篝火晚會的傳說傳遍了整個學校[SEP]\n",
      "predict:間諜家家酒 true:五等分的新娘\n",
      "[CLS]然後，終於到了連艾倫所屬的利威爾班都能目視到的距離[SEP]\n",
      "predict:Re從零開始的異世界生活 true:進擊的巨人\n",
      "[CLS]之後的日常相處中常和安妮亞吵架，然而因為安妮亞的態度不同於其他只會奉承自己的學生，反而漸漸地開始在意對方[SEP]\n",
      "predict:無職轉生 true:間諜家家酒\n",
      "[CLS]在第13卷中在洛琪希的教導下成為了王級法師，並通過洛琪希教導的【雷光】研究出了電擊魔法[SEP]\n",
      "predict:Re從零開始的異世界生活 true:無職轉生\n",
      "[CLS]幼年由於家族的過分寵愛，使得性格暴躁、極其任性，喜歡打人，被人稱之為無可救藥的大小姐，一度遭人放棄[SEP]\n",
      "predict:Re從零開始的異世界生活 true:無職轉生\n",
      "[CLS]所有人為了各自的目的都在努力[SEP]\n",
      "predict:五等分的新娘 true:Re從零開始的異世界生活\n",
      "[CLS]後在七星的建議下被龍神奧爾斯蒂德救活[SEP]\n",
      "predict:Re從零開始的異世界生活 true:無職轉生\n",
      "[CLS]發現了打水的阿爾敏，但二人隨後便被埋伏的利威爾等人控制[SEP]\n",
      "predict:Re從零開始的異世界生活 true:進擊的巨人\n",
      "[CLS]沒有見到千鶴，就這樣進入了冬季，聖誕節當天[SEP]\n",
      "predict:Re從零開始的異世界生活 true:出租女友\n",
      "[CLS]每逢新月會失去能力[SEP]\n",
      "predict:Re從零開始的異世界生活 true:間諜家家酒\n",
      "[CLS]擁有可以和人類以外的生物交談的恩寵、受到言靈的加護而誕生的奧托·蘇文，他的人生可說是波瀾萬丈[SEP]\n",
      "predict:無職轉生 true:Re從零開始的異世界生活\n",
      "[CLS]歌姬被一名男子攻擊，野薔薇跟真依出現，男子發現帳消失了就跑走[SEP]\n",
      "predict:鬼滅之刃 true:咒術迴戰\n",
      "[CLS]在女生中人氣頗高[SEP]\n",
      "predict:出租女友 true:無職轉生\n",
      "[CLS][UNK]要好好慶祝一下，想辦法解除誤會！[UNK][SEP]\n",
      "predict:Re從零開始的異世界生活 true:出租女友\n",
      "[CLS]東堂小三時，痛扁了一個來找他麻煩的高中生，突然一名帶著式神的女子出現說他打得很好，還問他喜歡什麼樣的女人[SEP]\n",
      "predict:無職轉生 true:咒術迴戰\n",
      "[CLS]赤龍下顎事件後和愛麗絲確認並發生了關係，由於誤解了愛麗絲留下的紙條，心靈受到了重創留下了ed不舉的疾病[SEP]\n",
      "predict:Re從零開始的異世界生活 true:無職轉生\n",
      "[CLS]被壓制的昴不認輸地進行了反擊，當父子倆一來一往的比拼職業摔角技時，因肚子餓而想吃早餐的母親菜月菜穗子，也來到了居室[SEP]\n",
      "predict:鬼滅之刃 true:Re從零開始的異世界生活\n",
      "[CLS]但考慮安妮亞可能難以完成，作為備用方案計劃b而希望能讓安妮亞和戴斯蒙德家次子達米安打好關係，藉此得到接近目標的機會[SEP]\n",
      "predict:無職轉生 true:間諜家家酒\n",
      "[CLS]最終，亞妮最終難敵盛怒狂暴之下的艾倫[SEP]\n",
      "predict:Re從零開始的異世界生活 true:進擊的巨人\n",
      "[CLS]討伐隊的成員見到這束手無策的情況，一個接著一個拋下了手中的武器[SEP]\n",
      "predict:鬼滅之刃 true:Re從零開始的異世界生活\n",
      "[CLS]擁有艾爾迪亞人母親的萊納的夢想就是和母親一起獲得榮譽馬萊人的稱號，進而和離開他們的父親一起生活[SEP]\n",
      "predict:無職轉生 true:進擊的巨人\n",
      "[CLS]他與千鶴是鄰居，但是他至今仍未正式跟千鶴告白[SEP]\n",
      "predict:五等分的新娘 true:出租女友\n",
      "[CLS]但是，他被帶到酒店的一個房間裡[UNK][UNK][SEP]\n",
      "predict:Re從零開始的異世界生活 true:出租女友\n",
      "[CLS]自己和夥伴們再次面臨著危機，這一次，艾倫選擇了相信自己[SEP]\n",
      "predict:Re從零開始的異世界生活 true:進擊的巨人\n",
      "[CLS]想起了所有自己該做的事的昴，和賢一以及菜穗子告別後，出發前往了學校[SEP]\n",
      "predict:五等分的新娘 true:Re從零開始的異世界生活\n",
      "[CLS]終於來臨的期中考試[SEP]\n",
      "predict:Re從零開始的異世界生活 true:五等分的新娘\n"
     ]
    },
    {
     "name": "stdout",
     "output_type": "stream",
     "text": [
      "[CLS]在第9卷中贏下魔王巴迪岡迪的挑戰，成為學校受人尊敬的存在[SEP]\n",
      "predict:Re從零開始的異世界生活 true:無職轉生\n",
      "[CLS]魯迪烏斯、艾莉絲及瑞傑路德因為魔物調查的委託前往石化之森，但那裡卻有兩組接到相同依賴的冒險者[SEP]\n",
      "predict:Re從零開始的異世界生活 true:無職轉生\n",
      "[CLS]旁人多叫他為達米安少爺，安妮亞則稱他為次子[SEP]\n",
      "predict:Re從零開始的異世界生活 true:間諜家家酒\n",
      "[CLS]成績很差，但也一直在努力，而成績最高的考卷科目為古語，洛伊德推測她過去曾居住在使用古語的國家[SEP]\n",
      "predict:進擊的巨人 true:間諜家家酒\n",
      "[CLS]能夠預知未來，安妮亞也能透過讀心術看到彭德的預知畫面，不過他自己針對預知所作的思考和行動有時比安妮亞還要單純[SEP]\n",
      "predict:Re從零開始的異世界生活 true:間諜家家酒\n",
      "[CLS]但是，二人偶然在同一所大學重逢，並確定是同一棟公寓的鄰居[SEP]\n",
      "predict:無職轉生 true:出租女友\n",
      "[CLS]公式書裡提到，鬍子最長的部分為17公分[SEP]\n",
      "predict:Re從零開始的異世界生活 true:間諜家家酒\n",
      "[CLS]二乃和三玖一起租用上杉母親原來的料理店，開了咖啡廳[SEP]\n",
      "predict:出租女友 true:五等分的新娘\n",
      "[CLS]夏油、真人跟漏瑚討論要把20跟手指收集完之後全交給宿[UNK][SEP]\n",
      "predict:鬼滅之刃 true:咒術迴戰\n",
      "[CLS]原來乙骨是日本三大怨靈之一菅原道真的後代，里香的詛咒是乙骨在拒絕她死亡時，無意識下的產物[SEP]\n",
      "predict:鬼滅之刃 true:咒術迴戰\n",
      "[CLS]在轉移事件中轉移到了阿斯拉王國的王宮中，被愛麗兒和盧克所救[SEP]\n",
      "predict:Re從零開始的異世界生活 true:無職轉生\n",
      "[CLS]砲彈向艾倫他們射來[SEP]\n",
      "predict:Re從零開始的異世界生活 true:進擊的巨人\n",
      "[CLS]為了找出咒術師究竟是誰，昴向拉姆和雷姆建議提前先去村里採買生活必需品[SEP]\n",
      "predict:咒術迴戰 true:Re從零開始的異世界生活\n",
      "[CLS]兒時擁抱尤利的時候因為用力過度把他弄到骨折折斷兩根肋骨，以至於之後觸碰小孩都格外小心[SEP]\n",
      "predict:Re從零開始的異世界生活 true:間諜家家酒\n",
      "[CLS]薩莎想起了與父親之間的苦澀回憶[SEP]\n",
      "predict:Re從零開始的異世界生活 true:進擊的巨人\n",
      "[CLS]而站在她面前，呼籲停止戰鬥的是[UNK][UNK]！！！[SEP]\n",
      "predict:Re從零開始的異世界生活 true:進擊的巨人\n",
      "[CLS]羅亞領主的女兒，亦是魯迪的遠方堂姐，比魯迪大兩歲[SEP]\n",
      "predict:Re從零開始的異世界生活 true:無職轉生\n",
      "[CLS]那天預定將舉行盛大的派對，但是艾莉絲對跳舞卻並不擅長[SEP]\n",
      "predict:Re從零開始的異世界生活 true:無職轉生\n",
      "[CLS]羅德道出了雷斯家的真相[SEP]\n",
      "predict:無職轉生 true:進擊的巨人\n",
      "[CLS]在赤龍下顎中碰到了龍神奧爾斯蒂德與七星，因為誤會被龍神奧爾斯蒂德當做人神的使徒一擊秒殺，險些死亡[SEP]\n",
      "predict:Re從零開始的異世界生活 true:無職轉生\n",
      "[CLS][UNK]那麼，我們回老家吧[SEP]\n",
      "predict:Re從零開始的異世界生活 true:出租女友\n",
      "[CLS]忍幫善逸打解毒針，其他隱也出現拯救快變成蜘蛛的隊員們[SEP]\n",
      "predict:咒術迴戰 true:鬼滅之刃\n",
      "[CLS]事後遭到降職處分，成為安妮亞的一年3班導師[SEP]\n",
      "predict:Re從零開始的異世界生活 true:間諜家家酒\n",
      "[CLS]伏黑拿著阿正的名牌交給他媽並道歉說沒能救他，媽媽說替他難過的也只有她一人[SEP]\n",
      "predict:鬼滅之刃 true:咒術迴戰\n",
      "[CLS]面對眾人的質疑，司祭自始至終保持沉默，不願意回答[SEP]\n",
      "predict:Re從零開始的異世界生活 true:進擊的巨人\n",
      "[CLS]然而，漢內斯傳來的消息是[UNK]沒有任何一個破洞的地方[UNK][SEP]\n",
      "predict:Re從零開始的異世界生活 true:進擊的巨人\n",
      "[CLS]回到故鄉，與母親重逢的萊納[SEP]\n",
      "predict:Re從零開始的異世界生活 true:進擊的巨人\n",
      "[CLS]隨著時間的推移，開始真心在意兩人，若是洛伊德身邊出現其他關係好的女性或是自己惹出什麼麻煩，就會害怕自己被拋棄而離開他們倆，也會不自覺的吃醋[SEP]\n",
      "predict:Re從零開始的異世界生活 true:間諜家家酒\n",
      "[CLS]知悉了這一切的104期兵們也被捲入了戰鬥中[SEP]\n",
      "predict:Re從零開始的異世界生活 true:進擊的巨人\n",
      "[CLS][UNK]你有時間嗎？我有個想去的地方[SEP]\n",
      "predict:Re從零開始的異世界生活 true:出租女友\n",
      "[CLS]野薔薇被真依打趴，準備開槍時被真希阻止，東堂過來要真依離開，因為要去小高田的握手會[SEP]\n",
      "predict:出租女友 true:咒術迴戰\n",
      "[CLS]在這種情況下，克里斯塔心裡萌生出絕對要救出尤彌爾而產生焦慮[SEP]\n",
      "predict:Re從零開始的異世界生活 true:進擊的巨人\n",
      "[CLS]時隔3年，家鄉已經不再是人類居住的土地，而是遍布了淒慘的景象[SEP]\n",
      "predict:Re從零開始的異世界生活 true:進擊的巨人\n",
      "[CLS]在乙骨和里香兩人都同意後，詛咒就會自然解除[SEP]\n",
      "predict:鬼滅之刃 true:咒術迴戰\n",
      "[CLS]為了幫父親完成任務一直想和達米安打好關係，在安妮亞不知情的情況下，偶然讓達米安對她的印象有所好轉，有些舉動甚至被身邊人誤會為戀愛，但其實本人不算喜歡他[SEP]\n",
      "predict:無職轉生 true:間諜家家酒\n",
      "[CLS]而失落至極的三玖受到二乃的鼓勵[SEP]\n",
      "predict:Re從零開始的異世界生活 true:五等分的新娘\n",
      "[CLS]倒下的三笠醒來後，發現時間已經過去5小時[SEP]\n",
      "predict:出租女友 true:進擊的巨人\n",
      "[CLS]另一方面，艾倫同行的人中不見了尼克的身影，他希望能夠用雙眼親自去確認牆壁的秘密[SEP]\n",
      "predict:Re從零開始的異世界生活 true:進擊的巨人\n",
      "[CLS]當他們在先搶先贏的競爭下準備完成委託時，魯迪烏斯卻被迫做出某個判斷[SEP]\n",
      "predict:Re從零開始的異世界生活 true:無職轉生\n",
      "[CLS]為了應對80年後拉普拉斯的複活而活動著，在各個國家建立了自己的組織，同時也號召各方勢力，希望各方勢力在80年後能夠協助龍神奧爾斯蒂德對抗拉普拉斯[SEP]\n",
      "predict:Re從零開始的異世界生活 true:無職轉生\n",
      "[CLS]悠仁開心在順平家玩，媽媽趴在桌上睡著，悠仁說無論如何都不想殺人，順平想著若殺人會玷汙媽媽的靈魂，他寧可不殺，半夜媽媽醒來後，發現桌上有手指，詛咒出現在她後面[SEP]\n",
      "predict:間諜家家酒 true:咒術迴戰\n",
      "[CLS]艾倫與亞妮兩人的決鬥已經爆發！[SEP]\n",
      "predict:Re從零開始的異世界生活 true:進擊的巨人\n"
     ]
    }
   ],
   "source": [
    "#print wrong predict of val\n",
    "model.eval()\n",
    "wrong_list, acc = get_predictions(model, valloader, compute_acc=True)\n",
    "print(acc)\n",
    "print(wrong_list[0])\n",
    "for wrong in wrong_list:\n",
    "    tokens = tokenizer.convert_ids_to_tokens(wrong[0])\n",
    "    combined_text = \"\".join(tokens)     #tokens 是一個很多字元的list用.join把他轉成string\n",
    "    combined_text=combined_text.replace(\"[PAD]\",\"\")\n",
    "    print(combined_text)\n",
    "    print(\"predict:{} true:{}\".format(inv_label_map[wrong[1]],inv_label_map[wrong[2]]))"
   ]
  },
  {
   "cell_type": "code",
   "execution_count": 36,
   "id": "894cfc3a",
   "metadata": {
    "ExecuteTime": {
     "end_time": "2023-01-04T08:13:52.060590Z",
     "start_time": "2023-01-04T08:13:50.907085Z"
    }
   },
   "outputs": [
    {
     "data": {
      "text/plain": [
       "<Figure size 1500x1000 with 0 Axes>"
      ]
     },
     "metadata": {},
     "output_type": "display_data"
    }
   ],
   "source": [
    "#plot\n",
    "#plt.xlim(0,2200 ) # 設定 x 軸座標範圍\n",
    "import matplotlib.pyplot as plt\n",
    "plt.ylim(0, 1) # 設定 y 軸座標範圍\n",
    "\n",
    "plt.xlabel('epoch', fontsize=\"10\") # 設定 x 軸標題內容及大小\n",
    "plt.ylabel('Accuracy', fontsize=\"10\") # 設定 y 軸標題內容及大小\n",
    "plt.title('Accuracy in use replace data (dropout=0.1)(8 movie prediction)', fontsize=\"18\") # 設定圖表標題內容及大小\n",
    "\n",
    "plt.plot(range(len(train_acc_list)),train_acc_list,marker='o', color='blue',label=\"Training Accuracy\")\n",
    "plt.plot(range(len(val_acc_list)),val_acc_list,marker='o', color='red',label=\"Validation Accuracy\")\n",
    "#for x,y in zip(range(len(val_acc_list)),val_acc_list): \n",
    "#    plt.text(x, y+0.01, \"({}, {:.3f})\".format(x,y))\n",
    "\n",
    "plt.legend()\n",
    "fig = plt.gcf()\n",
    "fig.set_size_inches(15, 10)\n",
    "plt.savefig(\"Movie Accuracy use replace data (dropout=0.1).png\",dpi=100)\n",
    "\n",
    "plt.clf()"
   ]
  },
  {
   "cell_type": "code",
   "execution_count": 43,
   "id": "dfb53c83",
   "metadata": {
    "ExecuteTime": {
     "end_time": "2023-01-04T08:19:36.086165Z",
     "start_time": "2023-01-04T08:19:36.056129Z"
    },
    "colab": {
     "base_uri": "https://localhost:8080/"
    },
    "executionInfo": {
     "elapsed": 276,
     "status": "ok",
     "timestamp": 1666702441197,
     "user": {
      "displayName": "蕭登方",
      "userId": "04110943827274540537"
     },
     "user_tz": -480
    },
    "id": "dfb53c83",
    "outputId": "9046831c-11fb-4e36-aa22-a6f32e2a76a0"
   },
   "outputs": [
    {
     "name": "stdout",
     "output_type": "stream",
     "text": [
      "[CLS]沒有血緣的一家人[SEP]\n",
      "['[CLS]', '沒', '有', '血', '緣', '的', '一', '家', '人', '[SEP]']\n",
      "[101, 3760, 3300, 6117, 5225, 4638, 671, 2157, 782, 102]\n",
      "Top 1 (28%)：間諜家家酒\n",
      "Top 2 (15%)：進擊的巨人\n",
      "Top 3 (15%)：無職轉生\n",
      "Top 4 (14%)：Re從零開始的異世界\n",
      "Top 5 (12%)：出租女友\n",
      "Top 6 (10%)：五等分的新娘\n",
      "Top 7 ( 2%)：咒術迴戰\n",
      "Top 8 ( 1%)：鬼滅之刃\n"
     ]
    }
   ],
   "source": [
    "model.eval()\n",
    "test_text = \"[CLS]沒有血緣的一家人[SEP]\"  # 盡量湊到6個字以上 ex:xx到底是甚麼\n",
    "tokens = tokenizer.tokenize(test_text)\n",
    "ids = tokenizer.convert_tokens_to_ids(tokens)\n",
    "\n",
    "id_tensor = torch.tensor([ids]).to(device)\n",
    "print(test_text)\n",
    "print(tokens[:])\n",
    "print(ids[:])\n",
    "k = 8\n",
    "with torch.no_grad():\n",
    "    outputs = model(input_ids=id_tensor)\n",
    "    prediction = outputs[0]\n",
    "    probs, indices = torch.topk(torch.softmax(prediction, -1), k)\n",
    "    probs = probs.tolist()\n",
    "    indices = indices.tolist()\n",
    "    probs = probs[0]\n",
    "    indices = indices[0]\n",
    "for i, (indice, p) in enumerate(zip(indices, probs), 1):\n",
    "    label = inv_label_map[indice]\n",
    "    print(\"Top {} ({:2}%)：{}\".format(i, int(p * 100), label[:10]))"
   ]
  }
 ],
 "metadata": {
  "accelerator": "GPU",
  "colab": {
   "provenance": []
  },
  "kernelspec": {
   "display_name": "Python 3.9 (tensorflow)",
   "language": "python",
   "name": "tensorflow"
  },
  "language_info": {
   "codemirror_mode": {
    "name": "ipython",
    "version": 3
   },
   "file_extension": ".py",
   "mimetype": "text/x-python",
   "name": "python",
   "nbconvert_exporter": "python",
   "pygments_lexer": "ipython3",
   "version": "3.9.13"
  },
  "toc": {
   "base_numbering": 1,
   "nav_menu": {},
   "number_sections": true,
   "sideBar": true,
   "skip_h1_title": false,
   "title_cell": "Table of Contents",
   "title_sidebar": "Contents",
   "toc_cell": false,
   "toc_position": {},
   "toc_section_display": true,
   "toc_window_display": false
  },
  "varInspector": {
   "cols": {
    "lenName": 16,
    "lenType": 16,
    "lenVar": 40
   },
   "kernels_config": {
    "python": {
     "delete_cmd_postfix": "",
     "delete_cmd_prefix": "del ",
     "library": "var_list.py",
     "varRefreshCmd": "print(var_dic_list())"
    },
    "r": {
     "delete_cmd_postfix": ") ",
     "delete_cmd_prefix": "rm(",
     "library": "var_list.r",
     "varRefreshCmd": "cat(var_dic_list()) "
    }
   },
   "oldHeight": 286.85,
   "position": {
    "height": "308.841px",
    "left": "559.193px",
    "right": "20px",
    "top": "81px",
    "width": "728px"
   },
   "types_to_exclude": [
    "module",
    "function",
    "builtin_function_or_method",
    "instance",
    "_Feature"
   ],
   "varInspector_section_display": "block",
   "window_display": false
  },
  "widgets": {
   "application/vnd.jupyter.widget-state+json": {
    "0a90c336520a4b37a07310ee07752420": {
     "model_module": "@jupyter-widgets/controls",
     "model_module_version": "1.5.0",
     "model_name": "ProgressStyleModel",
     "state": {
      "_model_module": "@jupyter-widgets/controls",
      "_model_module_version": "1.5.0",
      "_model_name": "ProgressStyleModel",
      "_view_count": null,
      "_view_module": "@jupyter-widgets/base",
      "_view_module_version": "1.2.0",
      "_view_name": "StyleView",
      "bar_color": null,
      "description_width": ""
     }
    },
    "40937cf4c5b140cb996312e4619444db": {
     "model_module": "@jupyter-widgets/base",
     "model_module_version": "1.2.0",
     "model_name": "LayoutModel",
     "state": {
      "_model_module": "@jupyter-widgets/base",
      "_model_module_version": "1.2.0",
      "_model_name": "LayoutModel",
      "_view_count": null,
      "_view_module": "@jupyter-widgets/base",
      "_view_module_version": "1.2.0",
      "_view_name": "LayoutView",
      "align_content": null,
      "align_items": null,
      "align_self": null,
      "border": null,
      "bottom": null,
      "display": null,
      "flex": null,
      "flex_flow": null,
      "grid_area": null,
      "grid_auto_columns": null,
      "grid_auto_flow": null,
      "grid_auto_rows": null,
      "grid_column": null,
      "grid_gap": null,
      "grid_row": null,
      "grid_template_areas": null,
      "grid_template_columns": null,
      "grid_template_rows": null,
      "height": null,
      "justify_content": null,
      "justify_items": null,
      "left": null,
      "margin": null,
      "max_height": null,
      "max_width": null,
      "min_height": null,
      "min_width": null,
      "object_fit": null,
      "object_position": null,
      "order": null,
      "overflow": null,
      "overflow_x": null,
      "overflow_y": null,
      "padding": null,
      "right": null,
      "top": null,
      "visibility": null,
      "width": null
     }
    },
    "64dc892c4b3645fcb2a3ba97f06e032c": {
     "model_module": "@jupyter-widgets/controls",
     "model_module_version": "1.5.0",
     "model_name": "FloatProgressModel",
     "state": {
      "_dom_classes": [],
      "_model_module": "@jupyter-widgets/controls",
      "_model_module_version": "1.5.0",
      "_model_name": "FloatProgressModel",
      "_view_count": null,
      "_view_module": "@jupyter-widgets/controls",
      "_view_module_version": "1.5.0",
      "_view_name": "ProgressView",
      "bar_style": "success",
      "description": "",
      "description_tooltip": null,
      "layout": "IPY_MODEL_e78290c248d741ec8a503a37b24aa143",
      "max": 1,
      "min": 0,
      "orientation": "horizontal",
      "style": "IPY_MODEL_0a90c336520a4b37a07310ee07752420",
      "value": 0
     }
    },
    "8dfa31321da04c048f4be0b325369ca5": {
     "model_module": "@jupyter-widgets/controls",
     "model_module_version": "1.5.0",
     "model_name": "HTMLModel",
     "state": {
      "_dom_classes": [],
      "_model_module": "@jupyter-widgets/controls",
      "_model_module_version": "1.5.0",
      "_model_name": "HTMLModel",
      "_view_count": null,
      "_view_module": "@jupyter-widgets/controls",
      "_view_module_version": "1.5.0",
      "_view_name": "HTMLView",
      "description": "",
      "description_tooltip": null,
      "layout": "IPY_MODEL_be822330c6c04df1ac3699bbf3a2760c",
      "placeholder": "​",
      "style": "IPY_MODEL_9c06c8fbf24647908c33f7e522429777",
      "value": " 0/0 [00:00&lt;?, ?it/s]"
     }
    },
    "99457cf987d347368ed223bab27555c6": {
     "model_module": "@jupyter-widgets/controls",
     "model_module_version": "1.5.0",
     "model_name": "DescriptionStyleModel",
     "state": {
      "_model_module": "@jupyter-widgets/controls",
      "_model_module_version": "1.5.0",
      "_model_name": "DescriptionStyleModel",
      "_view_count": null,
      "_view_module": "@jupyter-widgets/base",
      "_view_module_version": "1.2.0",
      "_view_name": "StyleView",
      "description_width": ""
     }
    },
    "9c06c8fbf24647908c33f7e522429777": {
     "model_module": "@jupyter-widgets/controls",
     "model_module_version": "1.5.0",
     "model_name": "DescriptionStyleModel",
     "state": {
      "_model_module": "@jupyter-widgets/controls",
      "_model_module_version": "1.5.0",
      "_model_name": "DescriptionStyleModel",
      "_view_count": null,
      "_view_module": "@jupyter-widgets/base",
      "_view_module_version": "1.2.0",
      "_view_name": "StyleView",
      "description_width": ""
     }
    },
    "a542890fb452487e8eb6ea03b000ab33": {
     "model_module": "@jupyter-widgets/base",
     "model_module_version": "1.2.0",
     "model_name": "LayoutModel",
     "state": {
      "_model_module": "@jupyter-widgets/base",
      "_model_module_version": "1.2.0",
      "_model_name": "LayoutModel",
      "_view_count": null,
      "_view_module": "@jupyter-widgets/base",
      "_view_module_version": "1.2.0",
      "_view_name": "LayoutView",
      "align_content": null,
      "align_items": null,
      "align_self": null,
      "border": null,
      "bottom": null,
      "display": null,
      "flex": null,
      "flex_flow": null,
      "grid_area": null,
      "grid_auto_columns": null,
      "grid_auto_flow": null,
      "grid_auto_rows": null,
      "grid_column": null,
      "grid_gap": null,
      "grid_row": null,
      "grid_template_areas": null,
      "grid_template_columns": null,
      "grid_template_rows": null,
      "height": null,
      "justify_content": null,
      "justify_items": null,
      "left": null,
      "margin": null,
      "max_height": null,
      "max_width": null,
      "min_height": null,
      "min_width": null,
      "object_fit": null,
      "object_position": null,
      "order": null,
      "overflow": null,
      "overflow_x": null,
      "overflow_y": null,
      "padding": null,
      "right": null,
      "top": null,
      "visibility": null,
      "width": null
     }
    },
    "be822330c6c04df1ac3699bbf3a2760c": {
     "model_module": "@jupyter-widgets/base",
     "model_module_version": "1.2.0",
     "model_name": "LayoutModel",
     "state": {
      "_model_module": "@jupyter-widgets/base",
      "_model_module_version": "1.2.0",
      "_model_name": "LayoutModel",
      "_view_count": null,
      "_view_module": "@jupyter-widgets/base",
      "_view_module_version": "1.2.0",
      "_view_name": "LayoutView",
      "align_content": null,
      "align_items": null,
      "align_self": null,
      "border": null,
      "bottom": null,
      "display": null,
      "flex": null,
      "flex_flow": null,
      "grid_area": null,
      "grid_auto_columns": null,
      "grid_auto_flow": null,
      "grid_auto_rows": null,
      "grid_column": null,
      "grid_gap": null,
      "grid_row": null,
      "grid_template_areas": null,
      "grid_template_columns": null,
      "grid_template_rows": null,
      "height": null,
      "justify_content": null,
      "justify_items": null,
      "left": null,
      "margin": null,
      "max_height": null,
      "max_width": null,
      "min_height": null,
      "min_width": null,
      "object_fit": null,
      "object_position": null,
      "order": null,
      "overflow": null,
      "overflow_x": null,
      "overflow_y": null,
      "padding": null,
      "right": null,
      "top": null,
      "visibility": null,
      "width": null
     }
    },
    "caac41f66b0142e28added42102acc2b": {
     "model_module": "@jupyter-widgets/controls",
     "model_module_version": "1.5.0",
     "model_name": "HBoxModel",
     "state": {
      "_dom_classes": [],
      "_model_module": "@jupyter-widgets/controls",
      "_model_module_version": "1.5.0",
      "_model_name": "HBoxModel",
      "_view_count": null,
      "_view_module": "@jupyter-widgets/controls",
      "_view_module_version": "1.5.0",
      "_view_name": "HBoxView",
      "box_style": "",
      "children": [
       "IPY_MODEL_cc50d7437a1b434683d60275b51a16b7",
       "IPY_MODEL_64dc892c4b3645fcb2a3ba97f06e032c",
       "IPY_MODEL_8dfa31321da04c048f4be0b325369ca5"
      ],
      "layout": "IPY_MODEL_40937cf4c5b140cb996312e4619444db"
     }
    },
    "cc50d7437a1b434683d60275b51a16b7": {
     "model_module": "@jupyter-widgets/controls",
     "model_module_version": "1.5.0",
     "model_name": "HTMLModel",
     "state": {
      "_dom_classes": [],
      "_model_module": "@jupyter-widgets/controls",
      "_model_module_version": "1.5.0",
      "_model_name": "HTMLModel",
      "_view_count": null,
      "_view_module": "@jupyter-widgets/controls",
      "_view_module_version": "1.5.0",
      "_view_name": "HTMLView",
      "description": "",
      "description_tooltip": null,
      "layout": "IPY_MODEL_a542890fb452487e8eb6ea03b000ab33",
      "placeholder": "​",
      "style": "IPY_MODEL_99457cf987d347368ed223bab27555c6",
      "value": ""
     }
    },
    "e78290c248d741ec8a503a37b24aa143": {
     "model_module": "@jupyter-widgets/base",
     "model_module_version": "1.2.0",
     "model_name": "LayoutModel",
     "state": {
      "_model_module": "@jupyter-widgets/base",
      "_model_module_version": "1.2.0",
      "_model_name": "LayoutModel",
      "_view_count": null,
      "_view_module": "@jupyter-widgets/base",
      "_view_module_version": "1.2.0",
      "_view_name": "LayoutView",
      "align_content": null,
      "align_items": null,
      "align_self": null,
      "border": null,
      "bottom": null,
      "display": null,
      "flex": null,
      "flex_flow": null,
      "grid_area": null,
      "grid_auto_columns": null,
      "grid_auto_flow": null,
      "grid_auto_rows": null,
      "grid_column": null,
      "grid_gap": null,
      "grid_row": null,
      "grid_template_areas": null,
      "grid_template_columns": null,
      "grid_template_rows": null,
      "height": null,
      "justify_content": null,
      "justify_items": null,
      "left": null,
      "margin": null,
      "max_height": null,
      "max_width": null,
      "min_height": null,
      "min_width": null,
      "object_fit": null,
      "object_position": null,
      "order": null,
      "overflow": null,
      "overflow_x": null,
      "overflow_y": null,
      "padding": null,
      "right": null,
      "top": null,
      "visibility": null,
      "width": "20px"
     }
    }
   }
  }
 },
 "nbformat": 4,
 "nbformat_minor": 5
}
